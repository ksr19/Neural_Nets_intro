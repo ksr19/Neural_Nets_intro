{
  "nbformat": 4,
  "nbformat_minor": 0,
  "metadata": {
    "colab": {
      "name": "HW4.ipynb",
      "provenance": [],
      "collapsed_sections": []
    },
    "kernelspec": {
      "name": "python3",
      "display_name": "Python 3"
    },
    "language_info": {
      "name": "python"
    },
    "accelerator": "GPU"
  },
  "cells": [
    {
      "cell_type": "markdown",
      "source": [
        "## Урок 4. Домашнее задание"
      ],
      "metadata": {
        "id": "83IOAzT9ecqM"
      }
    },
    {
      "cell_type": "markdown",
      "source": [
        "__Задание__:\n",
        "- реализовать нейронную сеть или стек из сверток (Concatenate) на сifar10;\n",
        "- оценить рост точности при увеличении ширины сети (больше ядер), больше нитей;\n",
        "- оценить рост точности при увеличении глубины сети (больше слоев)."
      ],
      "metadata": {
        "id": "kSAW94Wobg50"
      }
    },
    {
      "cell_type": "markdown",
      "source": [
        "Сначала повторим модель, представленную на занятии, в качестве бейзлайна."
      ],
      "metadata": {
        "id": "8efb5ACUddiY"
      }
    },
    {
      "cell_type": "code",
      "execution_count": 1,
      "metadata": {
        "id": "Qtdhye6DeQ9w"
      },
      "outputs": [],
      "source": [
        "import tensorflow.keras as keras\n",
        "import numpy as np\n",
        "import os\n",
        "\n",
        "from __future__ import print_function\n",
        "from tensorflow.keras.datasets import cifar10\n",
        "from tensorflow.keras.preprocessing.image import ImageDataGenerator\n",
        "from tensorflow.keras.models import Sequential\n",
        "from tensorflow.keras.layers import Dense, Dropout, Activation, Flatten\n",
        "from tensorflow.keras.layers import Conv2D, MaxPooling2D\n",
        "from matplotlib import pyplot as plt\n",
        "from keras.layers import Input, Concatenate\n",
        "from tensorflow.keras.utils import plot_model\n",
        "from keras.models import Model "
      ]
    },
    {
      "cell_type": "code",
      "source": [
        "classes=['самолет', 'автомобиль', 'птица', 'кот', 'олень', 'собака', 'лягушка', 'лошадь', 'корабль', 'грузовик']"
      ],
      "metadata": {
        "id": "O0axx0BqeUCo"
      },
      "execution_count": 2,
      "outputs": []
    },
    {
      "cell_type": "code",
      "source": [
        "# установка параметров нейросети\n",
        "batch_size = 32\n",
        "num_classes = 10\n",
        "epochs = 1\n",
        "data_augmentation = False\n",
        "num_predictions = 20\n",
        "save_dir = os.path.join(os.getcwd(), 'saved_models')\n",
        "model_name = 'keras_cifar10_trained_model.h5'\n",
        "\n",
        "# разделение тренировочной и тестовой выборки\n",
        "(x_train, y_train), (x_test, y_test) = cifar10.load_data()\n",
        "print('x_train shape:', x_train.shape)\n",
        "print(x_train.shape[0], 'тренировочные примеры')\n",
        "print(x_test.shape[0], 'тестовые примеры')\n",
        "\n",
        "# преобразование матрицы чисел 0-9 в бинарную матрицу чисел 0-1\n",
        "y_train = keras.utils.to_categorical(y_train, num_classes)\n",
        "y_test = keras.utils.to_categorical(y_test, num_classes)\n",
        "\n",
        "\n",
        "x_train = x_train.astype('float32')\n",
        "x_test = x_test.astype('float32')\n",
        "x_train /= 255\n",
        "x_test /= 255"
      ],
      "metadata": {
        "colab": {
          "base_uri": "https://localhost:8080/"
        },
        "id": "bhE0tVzPc2Lo",
        "outputId": "3caab918-0423-49d1-b582-853ef9c14a2c"
      },
      "execution_count": 3,
      "outputs": [
        {
          "output_type": "stream",
          "name": "stdout",
          "text": [
            "Downloading data from https://www.cs.toronto.edu/~kriz/cifar-10-python.tar.gz\n",
            "170500096/170498071 [==============================] - 2s 0us/step\n",
            "170508288/170498071 [==============================] - 2s 0us/step\n",
            "x_train shape: (50000, 32, 32, 3)\n",
            "50000 тренировочные примеры\n",
            "10000 тестовые примеры\n"
          ]
        }
      ]
    },
    {
      "cell_type": "code",
      "source": [
        "N = 140\n",
        "\n",
        "plt.imshow(x_test[N][:,:,:])\n",
        "plt.title('это : '+classes[np.argmax(y_test[N,:])])\n",
        "plt.show()"
      ],
      "metadata": {
        "colab": {
          "base_uri": "https://localhost:8080/",
          "height": 281
        },
        "id": "qICx0wdIdAlQ",
        "outputId": "f3e64868-64db-481e-f529-48d7e3cc6667"
      },
      "execution_count": 4,
      "outputs": [
        {
          "output_type": "display_data",
          "data": {
            "image/png": "[encoded data removed]",
            "text/plain": [
              "<Figure size 432x288 with 1 Axes>"
            ]
          },
          "metadata": {
            "needs_background": "light"
          }
        }
      ]
    },
    {
      "cell_type": "code",
      "source": [
        "data_augmentation = True"
      ],
      "metadata": {
        "id": "wa_T0FKTc8rQ"
      },
      "execution_count": 5,
      "outputs": []
    },
    {
      "cell_type": "code",
      "source": [
        "# конфигурирование слоев нейросети\n",
        "model = Sequential()\n",
        "\n",
        "# слои нейросети отвественные за свертку и max-pooling\n",
        "model.add(Conv2D(32, (3, 3), padding='same',\n",
        "                 input_shape=x_train.shape[1:]))\n",
        "model.add(Activation('relu'))\n",
        "model.add(Conv2D(32, (3, 3)))\n",
        "model.add(Activation('relu'))\n",
        "model.add(MaxPooling2D(pool_size=(2, 2)))\n",
        "model.add(Dropout( 0.25))\n",
        "\n",
        "model.add(Conv2D(64, (3, 3), padding='same'))\n",
        "model.add(Activation('relu'))\n",
        "model.add(Conv2D(64, (3, 3)))\n",
        "model.add(Activation('relu'))\n",
        "model.add(MaxPooling2D(pool_size=(2, 2)))\n",
        "model.add(Dropout(0.25))\n",
        "\n",
        "# полносвязные слои нейронной сети\n",
        "model.add(Flatten())\n",
        "model.add(Dense(512))\n",
        "model.add(Activation('relu'))\n",
        "model.add(Dropout(0.5))\n",
        "model.add(Dense(num_classes))\n",
        "model.add(Activation('softmax'))\n",
        "\n",
        "# инициализация RMSprop optimizer\n",
        "#opt = tensorflow.keras.optimizers.RMSprop(lr=0.0001, decay=1e-6)\n",
        "\n",
        "# компиляция модели\n",
        "model.compile(loss='categorical_crossentropy',\n",
        "              optimizer='SGD',\n",
        "              metrics=['accuracy'])\n",
        "\n",
        "\n",
        "\n",
        "if not data_augmentation:\n",
        "    print('Не используется data augmentation')\n",
        "    model.fit(x_train, y_train,\n",
        "              batch_size=batch_size,\n",
        "              epochs=epochs,\n",
        "              validation_data=(x_test, y_test),\n",
        "              shuffle=True)\n",
        "else:\n",
        "    print('Использование data augmentation в реальном времени')\n",
        "    # Препроцессинг и data augmentation в реальном времени:\n",
        "    datagen = ImageDataGenerator(\n",
        "        featurewise_center=False,\n",
        "        samplewise_center=False,\n",
        "        featurewise_std_normalization=False,\n",
        "        samplewise_std_normalization=False,\n",
        "        zca_whitening=False, \n",
        "        zca_epsilon=1e-06, \n",
        "        rotation_range=5, \n",
        "        width_shift_range=0.1,\n",
        "        height_shift_range=0.1,\n",
        "        shear_range=0., \n",
        "        zoom_range=0., \n",
        "        channel_shift_range=0.,\n",
        "        fill_mode='nearest',\n",
        "        cval=0.,\n",
        "        horizontal_flip=True,\n",
        "        vertical_flip=False,\n",
        "        rescale=None,\n",
        "        preprocessing_function=None,\n",
        "        data_format=None,\n",
        "        validation_split=0.0)\n",
        "\n",
        "    # запуск data augmentation через fit\n",
        "    #datagen.fit(x_train)\n",
        "\n",
        "    # запуск data augmentation через fit_generator\n",
        "    model.fit_generator(datagen.flow(x_train, y_train,\n",
        "                                     batch_size=batch_size),\n",
        "                        epochs=epochs,\n",
        "                        validation_data=(x_test, y_test),\n",
        "                        workers=-1)\n",
        "\n",
        "# сохранение модели и весов\n",
        "if not os.path.isdir(save_dir):\n",
        "    os.makedirs(save_dir)\n",
        "model_path = os.path.join(save_dir, model_name)\n",
        "model.save(model_path)\n",
        "print('сохранить обученную модель как %s ' % model_path)\n",
        "\n",
        "# проверка работы обученной модели\n",
        "scores = model.evaluate(x_test, y_test, verbose=1)\n",
        "print('Test loss:', scores[0])\n",
        "print('Test accuracy:', scores[1])"
      ],
      "metadata": {
        "colab": {
          "base_uri": "https://localhost:8080/"
        },
        "id": "vBAtJZt-dIP4",
        "outputId": "a88a96cf-36be-4bab-a371-c96c90e172a5"
      },
      "execution_count": 6,
      "outputs": [
        {
          "output_type": "stream",
          "name": "stdout",
          "text": [
            "Использование data augmentation в реальном времени\n"
          ]
        },
        {
          "output_type": "stream",
          "name": "stderr",
          "text": [
            "/usr/local/lib/python3.7/dist-packages/ipykernel_launcher.py:78: UserWarning: `Model.fit_generator` is deprecated and will be removed in a future version. Please use `Model.fit`, which supports generators.\n"
          ]
        },
        {
          "output_type": "stream",
          "name": "stdout",
          "text": [
            "1563/1563 [==============================] - 67s 35ms/step - loss: 2.1155 - accuracy: 0.2105 - val_loss: 1.9229 - val_accuracy: 0.3077\n",
            "сохранить обученную модель как /content/saved_models/keras_cifar10_trained_model.h5 \n",
            "313/313 [==============================] - 2s 6ms/step - loss: 1.9229 - accuracy: 0.3077\n",
            "Test loss: 1.9229414463043213\n",
            "Test accuracy: 0.3077000081539154\n"
          ]
        }
      ]
    },
    {
      "cell_type": "code",
      "source": [
        "model.summary()"
      ],
      "metadata": {
        "colab": {
          "base_uri": "https://localhost:8080/"
        },
        "id": "tERHLKWGdXwE",
        "outputId": "be8e296f-b042-4d1e-8724-3b45e5eddab4"
      },
      "execution_count": 7,
      "outputs": [
        {
          "output_type": "stream",
          "name": "stdout",
          "text": [
            "Model: \"sequential\"\n",
            "_________________________________________________________________\n",
            " Layer (type)                Output Shape              Param #   \n",
            "=================================================================\n",
            " conv2d (Conv2D)             (None, 32, 32, 32)        896       \n",
            "                                                                 \n",
            " activation (Activation)     (None, 32, 32, 32)        0         \n",
            "                                                                 \n",
            " conv2d_1 (Conv2D)           (None, 30, 30, 32)        9248      \n",
            "                                                                 \n",
            " activation_1 (Activation)   (None, 30, 30, 32)        0         \n",
            "                                                                 \n",
            " max_pooling2d (MaxPooling2D  (None, 15, 15, 32)       0         \n",
            " )                                                               \n",
            "                                                                 \n",
            " dropout (Dropout)           (None, 15, 15, 32)        0         \n",
            "                                                                 \n",
            " conv2d_2 (Conv2D)           (None, 15, 15, 64)        18496     \n",
            "                                                                 \n",
            " activation_2 (Activation)   (None, 15, 15, 64)        0         \n",
            "                                                                 \n",
            " conv2d_3 (Conv2D)           (None, 13, 13, 64)        36928     \n",
            "                                                                 \n",
            " activation_3 (Activation)   (None, 13, 13, 64)        0         \n",
            "                                                                 \n",
            " max_pooling2d_1 (MaxPooling  (None, 6, 6, 64)         0         \n",
            " 2D)                                                             \n",
            "                                                                 \n",
            " dropout_1 (Dropout)         (None, 6, 6, 64)          0         \n",
            "                                                                 \n",
            " flatten (Flatten)           (None, 2304)              0         \n",
            "                                                                 \n",
            " dense (Dense)               (None, 512)               1180160   \n",
            "                                                                 \n",
            " activation_4 (Activation)   (None, 512)               0         \n",
            "                                                                 \n",
            " dropout_2 (Dropout)         (None, 512)               0         \n",
            "                                                                 \n",
            " dense_1 (Dense)             (None, 10)                5130      \n",
            "                                                                 \n",
            " activation_5 (Activation)   (None, 10)                0         \n",
            "                                                                 \n",
            "=================================================================\n",
            "Total params: 1,250,858\n",
            "Trainable params: 1,250,858\n",
            "Non-trainable params: 0\n",
            "_________________________________________________________________\n"
          ]
        }
      ]
    },
    {
      "cell_type": "code",
      "source": [
        "N = 141\n",
        "y_p=model.predict(x_test[N:N+1][:,:,:])\n",
        "y_t = np.argmax(y_test[N:N+1], axis = 1 )\n",
        "y_i = np.argmax(y_p, axis = 1 )\n",
        "plt.imshow(x_test[N][:,:,:])\n",
        "plt.title('это : '+classes[y_t[0]]+'- опознан как : '+classes[y_i[0]])\n",
        "plt.show()"
      ],
      "metadata": {
        "colab": {
          "base_uri": "https://localhost:8080/",
          "height": 281
        },
        "id": "Ugrmgy95fLCM",
        "outputId": "d4cd38f0-5dd2-46e2-d393-ae322bc6d6f8"
      },
      "execution_count": 8,
      "outputs": [
        {
          "output_type": "display_data",
          "data": {
            "image/png": "[encoded data removed]",
            "text/plain": [
              "<Figure size 432x288 with 1 Axes>"
            ]
          },
          "metadata": {
            "needs_background": "light"
          }
        }
      ]
    },
    {
      "cell_type": "markdown",
      "source": [
        "Вынесем определение параметров и обработку изображений."
      ],
      "metadata": {
        "id": "aX_t6bbYIOQs"
      }
    },
    {
      "cell_type": "code",
      "source": [
        "# установка параметров нейросети\n",
        "batch_size = 32\n",
        "num_classes = 10\n",
        "epochs = 1\n",
        "data_augmentation = True"
      ],
      "metadata": {
        "id": "C1lK8qnzPocU"
      },
      "execution_count": 16,
      "outputs": []
    },
    {
      "cell_type": "code",
      "source": [
        "# Препроцессинг и data augmentation в реальном времени:\n",
        "datagen = ImageDataGenerator(\n",
        "    featurewise_center=False,\n",
        "    samplewise_center=False,\n",
        "    featurewise_std_normalization=False,\n",
        "    samplewise_std_normalization=False,\n",
        "    zca_whitening=False, \n",
        "    zca_epsilon=1e-06, \n",
        "    rotation_range=5, \n",
        "    width_shift_range=0.1,\n",
        "    height_shift_range=0.1,\n",
        "    shear_range=0., \n",
        "    zoom_range=0., \n",
        "    channel_shift_range=0.,\n",
        "    fill_mode='nearest',\n",
        "    cval=0.,\n",
        "    horizontal_flip=True,\n",
        "    vertical_flip=False,\n",
        "    rescale=None,\n",
        "    preprocessing_function=None,\n",
        "    data_format=None,\n",
        "    validation_split=0.0)"
      ],
      "metadata": {
        "id": "LYSrrn6MPY5A"
      },
      "execution_count": 17,
      "outputs": []
    },
    {
      "cell_type": "markdown",
      "source": [
        "Попробуем построить модель, которая будет объединением двух нитей со сверточными слоями."
      ],
      "metadata": {
        "id": "OrUIvT2QPAlQ"
      }
    },
    {
      "cell_type": "code",
      "source": [
        "first_input = Input(shape=x_train.shape[1:])\n",
        "x11 = Conv2D(32, 3, activation='relu', padding = 'same')(first_input)\n",
        "x12 = Conv2D(64, 3, activation='relu', padding = 'same')(x11)\n",
        "first_dense = x12\n",
        "\n",
        "x21 = Conv2D(32, 5, activation='relu', padding = 'same')(first_input)\n",
        "x22 = Conv2D(64, 5, activation='relu', padding = 'same')(x21)\n",
        "second_dense = x22\n",
        "\n",
        "merge = Concatenate(axis = -1)([first_dense, second_dense])\n",
        "\n",
        "merge_flat = Flatten()(merge)\n",
        "merge_dense = Dense(512, activation='relu')(merge_flat)\n",
        "merge_class = Dense(10, activation='softmax')(merge_dense)\n",
        "\n",
        "model_2stek = Model(inputs=first_input, outputs=merge_class)\n",
        "# sgd_grad = keras.optimizers.SGD(learning_rate=0.001, momentum=0.9)\n",
        "model_2stek.compile(optimizer='SGD', \n",
        "                   loss=keras.losses.CategoricalCrossentropy(),\n",
        "                   metrics=['accuracy'])\n",
        "\n",
        "plot_model(model_stek,'model_2stek.png')"
      ],
      "metadata": {
        "colab": {
          "base_uri": "https://localhost:8080/",
          "height": 661
        },
        "id": "QFo-ZEdnS1gQ",
        "outputId": "bfd1e89c-3337-4804-93d6-0e4465753971"
      },
      "execution_count": 24,
      "outputs": [
        {
          "output_type": "execute_result",
          "data": {
            "image/png": "[encoded data removed]",
            "text/plain": [
              "<IPython.core.display.Image object>"
            ]
          },
          "metadata": {},
          "execution_count": 24
        }
      ]
    },
    {
      "cell_type": "code",
      "source": [
        "final_scores = []\n",
        "final_losses = []\n",
        "\n",
        "for i in range(5):\n",
        "  print(f'Прогон {i}:')\n",
        "\n",
        "  first_input = Input(shape=x_train.shape[1:])\n",
        "  x11 = Conv2D(32, 3, activation='relu', padding = 'same')(first_input)\n",
        "  x12 = Conv2D(64, 3, activation='relu', padding = 'same')(x11)\n",
        "  first_dense = x12\n",
        "\n",
        "  x21 = Conv2D(32, 5, activation='relu', padding = 'same')(first_input)\n",
        "  x22 = Conv2D(64, 5, activation='relu', padding = 'same')(x21)\n",
        "  second_dense = x22\n",
        "\n",
        "  merge = Concatenate(axis = -1)([first_dense, second_dense])\n",
        "\n",
        "  merge_flat = Flatten()(merge)\n",
        "  merge_dense = Dense(512, activation='relu')(merge_flat)\n",
        "  merge_class = Dense(10, activation='softmax')(merge_dense)\n",
        "\n",
        "  model_2stek = Model(inputs=first_input, outputs=merge_class)\n",
        "  model_2stek.compile(optimizer='SGD', \n",
        "                      loss=keras.losses.CategoricalCrossentropy(),\n",
        "                      metrics=['accuracy'])\n",
        "  hist = model_2stek.fit(datagen.flow(x_train, y_train,\n",
        "                                     batch_size=batch_size), \n",
        "                         epochs = epochs, validation_data=(x_test, y_test))\n",
        "  \n",
        "  # проверка работы обученной модели\n",
        "  scores = model_2stek.evaluate(x_test, y_test, verbose=0)\n",
        "  final_scores.append(scores[1])\n",
        "  final_losses.append(scores[0])"
      ],
      "metadata": {
        "colab": {
          "base_uri": "https://localhost:8080/"
        },
        "id": "Uva7TXGzIqUA",
        "outputId": "e37cd9e4-0134-496f-dcee-7b9546cc0bb7"
      },
      "execution_count": 28,
      "outputs": [
        {
          "output_type": "stream",
          "name": "stdout",
          "text": [
            "Прогон 0:\n",
            "1563/1563 [==============================] - 74s 47ms/step - loss: 1.7888 - accuracy: 0.3619 - val_loss: 1.6209 - val_accuracy: 0.4272\n",
            "Прогон 1:\n",
            "1563/1563 [==============================] - 71s 45ms/step - loss: 1.7616 - accuracy: 0.3701 - val_loss: 1.4345 - val_accuracy: 0.4935\n",
            "Прогон 2:\n",
            "1563/1563 [==============================] - 72s 46ms/step - loss: 1.7723 - accuracy: 0.3629 - val_loss: 1.4974 - val_accuracy: 0.4722\n",
            "Прогон 3:\n",
            "1563/1563 [==============================] - 73s 46ms/step - loss: 1.7743 - accuracy: 0.3618 - val_loss: 1.5615 - val_accuracy: 0.4474\n",
            "Прогон 4:\n",
            "1563/1563 [==============================] - 72s 46ms/step - loss: 1.7729 - accuracy: 0.3621 - val_loss: 1.4921 - val_accuracy: 0.4707\n"
          ]
        }
      ]
    },
    {
      "cell_type": "code",
      "source": [
        "print(f'Метрика двухнитевой модели на тесте - {np.average(final_scores):.4f} +- {np.std(final_scores):.4f}')"
      ],
      "metadata": {
        "colab": {
          "base_uri": "https://localhost:8080/"
        },
        "id": "J8tdoGG9KQjw",
        "outputId": "45916687-f652-4e3e-a757-7761007ded21"
      },
      "execution_count": 32,
      "outputs": [
        {
          "output_type": "stream",
          "name": "stdout",
          "text": [
            "Метрика двухнитевой модели на тесте - 0.4622 +- 0.0228\n"
          ]
        }
      ]
    },
    {
      "cell_type": "markdown",
      "source": [
        "Видно, что метрика модели улучшилась. Попробуем теперь добавить дополнительную нить и посмотреть каким образом это повлияет на результаты:"
      ],
      "metadata": {
        "id": "NNGVJ_Y_NUs4"
      }
    },
    {
      "cell_type": "code",
      "source": [
        "first_input = Input(shape=x_train.shape[1:])\n",
        "x11 = Conv2D(32, 3,activation='relu',padding = 'same')(first_input)\n",
        "x12 = Conv2D(64, 3,activation='relu',padding = 'same')(x11)\n",
        "first_dense = x12\n",
        "\n",
        "x21 = Conv2D(32, 5,activation='relu',padding = 'same')(first_input)\n",
        "x22 = Conv2D(64, 5,activation='relu',padding = 'same')(x21)\n",
        "second_dense = x22\n",
        "\n",
        "merge_one = Concatenate(axis =-1)([first_dense, second_dense])\n",
        "\n",
        "x31 = Conv2D(32,1, activation='relu',padding = 'same')(first_input)\n",
        "x32 = Conv2D(64,1, activation='relu',padding = 'same')(x31)\n",
        "\n",
        "\n",
        "merge_two = Concatenate(axis = -1)([merge_one, x32])\n",
        "\n",
        "merge = Flatten()(merge_two)\n",
        "merge_dense = Dense(512, activation='relu')(merge)\n",
        "merge_class = Dense(10, activation='softmax')(merge_dense)\n",
        "\n",
        "model_3stek = Model(inputs=first_input, outputs=merge_class)\n",
        "model_3stek.compile(optimizer='SGD', \n",
        "                   loss=keras.losses.CategoricalCrossentropy(), \n",
        "                   metrics=['accuracy'])\n",
        "\n",
        "\n",
        "plot_model(model_3stek,'model_stek_3.png')"
      ],
      "metadata": {
        "colab": {
          "base_uri": "https://localhost:8080/",
          "height": 758
        },
        "id": "Ur2ZFGc2ThW0",
        "outputId": "02d1f22e-ec80-4546-94f9-2486ccbb6818"
      },
      "execution_count": 33,
      "outputs": [
        {
          "output_type": "execute_result",
          "data": {
            "image/png": "[encoded data removed]",
            "text/plain": [
              "<IPython.core.display.Image object>"
            ]
          },
          "metadata": {},
          "execution_count": 33
        }
      ]
    },
    {
      "cell_type": "code",
      "source": [
        "final_scores = []\n",
        "final_losses = []\n",
        "\n",
        "for i in range(5):\n",
        "  print(f'Прогон {i}:')\n",
        "\n",
        "  first_input = Input(shape=x_train.shape[1:])\n",
        "  x11 = Conv2D(32, 3,activation='relu',padding = 'same')(first_input)\n",
        "  x12 = Conv2D(64, 3,activation='relu',padding = 'same')(x11)\n",
        "  first_dense = x12\n",
        "\n",
        "  x21 = Conv2D(32, 5,activation='relu',padding = 'same')(first_input)\n",
        "  x22 = Conv2D(64, 5,activation='relu',padding = 'same')(x21)\n",
        "  second_dense = x22\n",
        "\n",
        "  merge_one = Concatenate(axis =-1)([first_dense, second_dense])\n",
        "\n",
        "  x31 = Conv2D(32,1, activation='relu',padding = 'same')(first_input)\n",
        "  x32 = Conv2D(64,1, activation='relu',padding = 'same')(x31)\n",
        "\n",
        "\n",
        "  merge_two = Concatenate(axis = -1)([merge_one, x32])\n",
        "\n",
        "  merge = Flatten()(merge_two)\n",
        "  merge_dense = Dense(512, activation='relu')(merge)\n",
        "  merge_class = Dense(10, activation='softmax')(merge_dense)\n",
        "\n",
        "  model_3stek = Model(inputs=first_input, outputs=merge_class)\n",
        "  model_3stek.compile(optimizer='SGD', \n",
        "                    loss=keras.losses.CategoricalCrossentropy(), \n",
        "                    metrics=['accuracy'])\n",
        "  \n",
        "  hist = model_3stek.fit(datagen.flow(x_train, y_train,\n",
        "                                     batch_size=batch_size), \n",
        "                         epochs = epochs, validation_data=(x_test, y_test))\n",
        "  \n",
        "  # проверка работы обученной модели\n",
        "  scores = model_3stek.evaluate(x_test, y_test, verbose=0)\n",
        "  final_scores.append(scores[1])\n",
        "  final_losses.append(scores[0])\n",
        "\n",
        "\n",
        "print(f'Метрика трехнитевой модели на тесте - {np.average(final_scores):.4f} +- {np.std(final_scores):.4f}')"
      ],
      "metadata": {
        "colab": {
          "base_uri": "https://localhost:8080/"
        },
        "id": "-CtNHrg0T8ew",
        "outputId": "39adbec1-1cae-447b-a54d-e1ab3c7a94ae"
      },
      "execution_count": 34,
      "outputs": [
        {
          "output_type": "stream",
          "name": "stdout",
          "text": [
            "Прогон 0:\n",
            "1563/1563 [==============================] - 106s 67ms/step - loss: 1.7592 - accuracy: 0.3683 - val_loss: 1.4621 - val_accuracy: 0.4782\n",
            "Прогон 1:\n",
            "1563/1563 [==============================] - 106s 67ms/step - loss: 1.7924 - accuracy: 0.3578 - val_loss: 1.5296 - val_accuracy: 0.4614\n",
            "Прогон 2:\n",
            "1563/1563 [==============================] - 106s 68ms/step - loss: 1.7945 - accuracy: 0.3562 - val_loss: 1.5624 - val_accuracy: 0.4365\n",
            "Прогон 3:\n",
            "1563/1563 [==============================] - 106s 67ms/step - loss: 1.8027 - accuracy: 0.3495 - val_loss: 1.4778 - val_accuracy: 0.4729\n",
            "Прогон 4:\n",
            "1563/1563 [==============================] - 106s 68ms/step - loss: 1.7966 - accuracy: 0.3578 - val_loss: 1.4841 - val_accuracy: 0.4798\n",
            "Метрика трехнитевой модели на тесте - 0.4658 +- 0.0160\n"
          ]
        }
      ]
    },
    {
      "cell_type": "markdown",
      "source": [
        "Как видим какого-либо значительного улучшения метрики при добавлении дополнительной нити сверточных уровней добиться не удалось."
      ],
      "metadata": {
        "id": "-KzinxQDXDNg"
      }
    },
    {
      "cell_type": "markdown",
      "source": [
        "Попробуем вернуться к двухнитевой модели и увеличить количество ядер."
      ],
      "metadata": {
        "id": "1RNeVMldXg_w"
      }
    },
    {
      "cell_type": "code",
      "source": [
        "final_scores = []\n",
        "final_losses = []\n",
        "\n",
        "for i in range(5):\n",
        "  print(f'Прогон {i}:')\n",
        "\n",
        "  first_input = Input(shape=x_train.shape[1:])\n",
        "  x11 = Conv2D(64, 3, activation='relu', padding = 'same')(first_input)\n",
        "  x12 = Conv2D(128, 3, activation='relu', padding = 'same')(x11)\n",
        "  first_dense = x12\n",
        "\n",
        "  x21 = Conv2D(64, 5, activation='relu', padding = 'same')(first_input)\n",
        "  x22 = Conv2D(128, 5, activation='relu', padding = 'same')(x21)\n",
        "  second_dense = x22\n",
        "\n",
        "  merge = Concatenate(axis = -1)([first_dense, second_dense])\n",
        "\n",
        "  merge_flat = Flatten()(merge)\n",
        "  merge_dense = Dense(512, activation='relu')(merge_flat)\n",
        "  merge_class = Dense(10, activation='softmax')(merge_dense)\n",
        "\n",
        "  model_2stek = Model(inputs=first_input, outputs=merge_class)\n",
        "  model_2stek.compile(optimizer='SGD', \n",
        "                      loss=keras.losses.CategoricalCrossentropy(),\n",
        "                      metrics=['accuracy'])\n",
        "  hist = model_2stek.fit(datagen.flow(x_train, y_train,\n",
        "                                     batch_size=batch_size), \n",
        "                         epochs = epochs, validation_data=(x_test, y_test))\n",
        "  \n",
        "  # проверка работы обученной модели\n",
        "  scores = model_2stek.evaluate(x_test, y_test, verbose=0)\n",
        "  final_scores.append(scores[1])\n",
        "  final_losses.append(scores[0])\n",
        "\n",
        "\n",
        "print(f'Метрика двухнитевой модели с увеличенным количеством ядер на тесте - {np.average(final_scores):.4f} +- {np.std(final_scores):.4f}')"
      ],
      "metadata": {
        "colab": {
          "base_uri": "https://localhost:8080/"
        },
        "id": "juBjiv_MXC6w",
        "outputId": "a48d80c5-a480-4fd6-bd84-671e64c879b2"
      },
      "execution_count": 35,
      "outputs": [
        {
          "output_type": "stream",
          "name": "stdout",
          "text": [
            "Прогон 0:\n",
            "1563/1563 [==============================] - 136s 86ms/step - loss: 1.7894 - accuracy: 0.3561 - val_loss: 1.5053 - val_accuracy: 0.4637\n",
            "Прогон 1:\n",
            "1563/1563 [==============================] - 135s 86ms/step - loss: 1.7625 - accuracy: 0.3675 - val_loss: 1.4383 - val_accuracy: 0.4862\n",
            "Прогон 2:\n",
            "1563/1563 [==============================] - 130s 83ms/step - loss: 1.7985 - accuracy: 0.3576 - val_loss: 1.5241 - val_accuracy: 0.4660\n",
            "Прогон 3:\n",
            "1563/1563 [==============================] - 130s 83ms/step - loss: 1.7785 - accuracy: 0.3633 - val_loss: 1.5082 - val_accuracy: 0.4475\n",
            "Прогон 4:\n",
            "1563/1563 [==============================] - 133s 85ms/step - loss: 1.7789 - accuracy: 0.3627 - val_loss: 1.4672 - val_accuracy: 0.4750\n",
            "Метрика двухнитевой модели с увеличенным количеством ядер на тесте - 0.4677 +- 0.0128\n"
          ]
        }
      ]
    },
    {
      "cell_type": "markdown",
      "source": [
        "Как видим снова значительного изменения точности по сравнению с обычной двухнитевой моделью добиться не удалось. Попробуем добавить дополнительный сверточный слой на каждую из нитей, сделав модель глубже."
      ],
      "metadata": {
        "id": "SlFb5gmibSZw"
      }
    },
    {
      "cell_type": "code",
      "source": [
        "final_scores = []\n",
        "final_losses = []\n",
        "\n",
        "for i in range(5):\n",
        "  print(f'Прогон {i}:')\n",
        "\n",
        "  first_input = Input(shape=x_train.shape[1:])\n",
        "  x11 = Conv2D(32, 3, activation='relu', padding = 'same')(first_input)\n",
        "  x12 = Conv2D(64, 3, activation='relu', padding = 'same')(x11)\n",
        "  x13 = Conv2D(128, 3, activation='relu', padding = 'same')(x12)\n",
        "  first_dense = x13\n",
        "\n",
        "  x21 = Conv2D(32, 5, activation='relu', padding = 'same')(first_input)\n",
        "  x22 = Conv2D(64, 5, activation='relu', padding = 'same')(x21)\n",
        "  x23 = Conv2D(128, 5, activation='relu', padding = 'same')(x22)\n",
        "  second_dense = x23\n",
        "\n",
        "  merge = Concatenate(axis = -1)([first_dense, second_dense])\n",
        "\n",
        "  merge_flat = Flatten()(merge)\n",
        "  merge_dense = Dense(512, activation='relu')(merge_flat)\n",
        "  merge_class = Dense(10, activation='softmax')(merge_dense)\n",
        "\n",
        "  model_2stek = Model(inputs=first_input, outputs=merge_class)\n",
        "  model_2stek.compile(optimizer='SGD', \n",
        "                      loss=keras.losses.CategoricalCrossentropy(),\n",
        "                      metrics=['accuracy'])\n",
        "  hist = model_2stek.fit(datagen.flow(x_train, y_train,\n",
        "                                     batch_size=batch_size), \n",
        "                         epochs = epochs, validation_data=(x_test, y_test))\n",
        "  \n",
        "  # проверка работы обученной модели\n",
        "  scores = model_2stek.evaluate(x_test, y_test, verbose=0)\n",
        "  final_scores.append(scores[1])\n",
        "  final_losses.append(scores[0])"
      ],
      "metadata": {
        "colab": {
          "base_uri": "https://localhost:8080/"
        },
        "id": "jPa1ON4xbkII",
        "outputId": "61965678-4b6f-4568-e706-d3e42ac279ba"
      },
      "execution_count": 36,
      "outputs": [
        {
          "output_type": "stream",
          "name": "stdout",
          "text": [
            "Прогон 0:\n",
            "1563/1563 [==============================] - 148s 94ms/step - loss: 1.7797 - accuracy: 0.3592 - val_loss: 1.4731 - val_accuracy: 0.4771\n",
            "Прогон 1:\n",
            "1563/1563 [==============================] - 148s 94ms/step - loss: 1.7988 - accuracy: 0.3543 - val_loss: 1.4913 - val_accuracy: 0.4657\n",
            "Прогон 2:\n",
            "1563/1563 [==============================] - 148s 94ms/step - loss: 1.7650 - accuracy: 0.3668 - val_loss: 1.5644 - val_accuracy: 0.4310\n",
            "Прогон 3:\n",
            "1563/1563 [==============================] - 148s 94ms/step - loss: 1.7848 - accuracy: 0.3588 - val_loss: 1.4676 - val_accuracy: 0.4754\n",
            "Прогон 4:\n",
            "1563/1563 [==============================] - 149s 95ms/step - loss: 1.7778 - accuracy: 0.3596 - val_loss: 1.4696 - val_accuracy: 0.4822\n"
          ]
        }
      ]
    },
    {
      "cell_type": "code",
      "source": [
        "print(f'Метрика двухнитевой модели с тремя слоями свертки на тесте - {np.average(final_scores):.4f} +- {np.std(final_scores):.4f}')"
      ],
      "metadata": {
        "colab": {
          "base_uri": "https://localhost:8080/"
        },
        "id": "JIF2DdtSgrIQ",
        "outputId": "18fbb868-6a02-4ad5-a1f8-7578bb7bf91e"
      },
      "execution_count": 37,
      "outputs": [
        {
          "output_type": "stream",
          "name": "stdout",
          "text": [
            "Метрика двухнитевой модели с тремя слоями свертки на тесте - 0.4663 +- 0.0184\n"
          ]
        }
      ]
    },
    {
      "cell_type": "markdown",
      "source": [
        "Снова не удалось добиться каких-то значимых изменений. Попробуем увеличить количество эпох и посмотреть как это повлияет на метрику. Так как это значительно увеличит время расчета и ресурсы прогоним модель с увеличенным количеством эпох один раз. Увеличим также размер батча, чтобы модель считалась быстрее."
      ],
      "metadata": {
        "id": "92ZNYOjdhJks"
      }
    },
    {
      "cell_type": "code",
      "source": [
        "epochs = 10\n",
        "batch_size = 64\n",
        "\n",
        "first_input = Input(shape=x_train.shape[1:])\n",
        "x11 = Conv2D(32, 3, activation='relu', padding = 'same')(first_input)\n",
        "x12 = Conv2D(64, 3, activation='relu', padding = 'same')(x11)\n",
        "x13 = Conv2D(128, 3, activation='relu', padding = 'same')(x12)\n",
        "first_dense = x13\n",
        "\n",
        "x21 = Conv2D(32, 5, activation='relu', padding = 'same')(first_input)\n",
        "x22 = Conv2D(64, 5, activation='relu', padding = 'same')(x21)\n",
        "x23 = Conv2D(128, 5, activation='relu', padding = 'same')(x22)\n",
        "second_dense = x23\n",
        "\n",
        "merge = Concatenate(axis = -1)([first_dense, second_dense])\n",
        "\n",
        "merge_flat = Flatten()(merge)\n",
        "merge_dense = Dense(512, activation='relu')(merge_flat)\n",
        "merge_class = Dense(10, activation='softmax')(merge_dense)\n",
        "\n",
        "model_2stek = Model(inputs=first_input, outputs=merge_class)\n",
        "model_2stek.compile(optimizer='SGD', \n",
        "                    loss=keras.losses.CategoricalCrossentropy(),\n",
        "                    metrics=['accuracy'])\n",
        "hist = model_2stek.fit(datagen.flow(x_train, y_train,\n",
        "                                    batch_size=batch_size), \n",
        "                        epochs = epochs, validation_data=(x_test, y_test))\n",
        "\n",
        "# проверка работы обученной модели\n",
        "scores = model_2stek.evaluate(x_test, y_test, verbose=0)\n",
        "print(f'Test accuracy - {scores[1]}')"
      ],
      "metadata": {
        "colab": {
          "base_uri": "https://localhost:8080/"
        },
        "id": "i7yn09eZhl_c",
        "outputId": "01ad0225-aa52-45d8-f1e1-615fb51e59c9"
      },
      "execution_count": 38,
      "outputs": [
        {
          "output_type": "stream",
          "name": "stdout",
          "text": [
            "Epoch 1/10\n",
            "782/782 [==============================] - 108s 135ms/step - loss: 1.8728 - accuracy: 0.3293 - val_loss: 1.6313 - val_accuracy: 0.4139\n",
            "Epoch 2/10\n",
            "782/782 [==============================] - 105s 135ms/step - loss: 1.5786 - accuracy: 0.4362 - val_loss: 1.4358 - val_accuracy: 0.4920\n",
            "Epoch 3/10\n",
            "782/782 [==============================] - 105s 134ms/step - loss: 1.4372 - accuracy: 0.4865 - val_loss: 1.3760 - val_accuracy: 0.5132\n",
            "Epoch 4/10\n",
            "782/782 [==============================] - 105s 134ms/step - loss: 1.3373 - accuracy: 0.5223 - val_loss: 1.2341 - val_accuracy: 0.5535\n",
            "Epoch 5/10\n",
            "782/782 [==============================] - 105s 134ms/step - loss: 1.2695 - accuracy: 0.5457 - val_loss: 1.1401 - val_accuracy: 0.5936\n",
            "Epoch 6/10\n",
            "782/782 [==============================] - 105s 135ms/step - loss: 1.2080 - accuracy: 0.5730 - val_loss: 1.1006 - val_accuracy: 0.6053\n",
            "Epoch 7/10\n",
            "782/782 [==============================] - 105s 135ms/step - loss: 1.1526 - accuracy: 0.5921 - val_loss: 1.0523 - val_accuracy: 0.6249\n",
            "Epoch 8/10\n",
            "782/782 [==============================] - 106s 135ms/step - loss: 1.0988 - accuracy: 0.6123 - val_loss: 1.0504 - val_accuracy: 0.6225\n",
            "Epoch 9/10\n",
            "782/782 [==============================] - 105s 135ms/step - loss: 1.0490 - accuracy: 0.6316 - val_loss: 0.9624 - val_accuracy: 0.6539\n",
            "Epoch 10/10\n",
            "782/782 [==============================] - 105s 134ms/step - loss: 1.0004 - accuracy: 0.6472 - val_loss: 0.9772 - val_accuracy: 0.6573\n",
            "Test accuracy - 0.6572999954223633\n"
          ]
        }
      ]
    },
    {
      "cell_type": "markdown",
      "source": [
        "Видим, что увеличение эпох крайне позитивно повлияло на качество нашей модели. Более того метрики на трейне/тесте позволяют утверждать, что можно и дальше наращивать число эпох, так как проблемы переобучения очевидно еще нет. Попробуем посмотреть какие значения показывает трехнитевая модель на сопоставимом количестве эпох."
      ],
      "metadata": {
        "id": "Ua_EFfAun8jw"
      }
    },
    {
      "cell_type": "code",
      "source": [
        "batch_size=64\n",
        "epochs=10\n",
        "\n",
        "first_input = Input(shape=x_train.shape[1:])\n",
        "x11 = Conv2D(32, 3,activation='relu',padding = 'same')(first_input)\n",
        "x12 = Conv2D(64, 3,activation='relu',padding = 'same')(x11)\n",
        "first_dense = x12\n",
        "\n",
        "x21 = Conv2D(32, 5,activation='relu',padding = 'same')(first_input)\n",
        "x22 = Conv2D(64, 5,activation='relu',padding = 'same')(x21)\n",
        "second_dense = x22\n",
        "\n",
        "merge_one = Concatenate(axis =-1)([first_dense, second_dense])\n",
        "\n",
        "x31 = Conv2D(32,1, activation='relu',padding = 'same')(first_input)\n",
        "x32 = Conv2D(64,1, activation='relu',padding = 'same')(x31)\n",
        "\n",
        "\n",
        "merge_two = Concatenate(axis = -1)([merge_one, x32])\n",
        "\n",
        "merge = Flatten()(merge_two)\n",
        "merge_dense = Dense(512, activation='relu')(merge)\n",
        "merge_class = Dense(10, activation='softmax')(merge_dense)\n",
        "\n",
        "model_3stek = Model(inputs=first_input, outputs=merge_class)\n",
        "model_3stek.compile(optimizer='SGD', \n",
        "                  loss=keras.losses.CategoricalCrossentropy(), \n",
        "                  metrics=['accuracy'])\n",
        "\n",
        "hist = model_3stek.fit(datagen.flow(x_train, y_train,\n",
        "                                    batch_size=batch_size), \n",
        "                        epochs = epochs, validation_data=(x_test, y_test))\n",
        "\n",
        "# проверка работы обученной модели\n",
        "scores = model_3stek.evaluate(x_test, y_test, verbose=1)"
      ],
      "metadata": {
        "colab": {
          "base_uri": "https://localhost:8080/"
        },
        "id": "v3_GQrUzoXzg",
        "outputId": "a33f44a3-3483-41b7-86eb-527cc7531517"
      },
      "execution_count": 39,
      "outputs": [
        {
          "output_type": "stream",
          "name": "stdout",
          "text": [
            "Epoch 1/10\n",
            "782/782 [==============================] - 74s 93ms/step - loss: 1.8751 - accuracy: 0.3290 - val_loss: 1.7434 - val_accuracy: 0.3815\n",
            "Epoch 2/10\n",
            "782/782 [==============================] - 72s 93ms/step - loss: 1.5721 - accuracy: 0.4373 - val_loss: 1.4872 - val_accuracy: 0.4744\n",
            "Epoch 3/10\n",
            "782/782 [==============================] - 72s 92ms/step - loss: 1.4388 - accuracy: 0.4885 - val_loss: 1.2986 - val_accuracy: 0.5406\n",
            "Epoch 4/10\n",
            "782/782 [==============================] - 72s 92ms/step - loss: 1.3646 - accuracy: 0.5101 - val_loss: 1.2156 - val_accuracy: 0.5632\n",
            "Epoch 5/10\n",
            "782/782 [==============================] - 72s 92ms/step - loss: 1.3003 - accuracy: 0.5379 - val_loss: 1.1970 - val_accuracy: 0.5724\n",
            "Epoch 6/10\n",
            "782/782 [==============================] - 72s 92ms/step - loss: 1.2445 - accuracy: 0.5574 - val_loss: 1.1490 - val_accuracy: 0.5937\n",
            "Epoch 7/10\n",
            "782/782 [==============================] - 73s 93ms/step - loss: 1.1950 - accuracy: 0.5777 - val_loss: 1.1574 - val_accuracy: 0.5846\n",
            "Epoch 8/10\n",
            "782/782 [==============================] - 73s 93ms/step - loss: 1.1446 - accuracy: 0.5958 - val_loss: 1.0693 - val_accuracy: 0.6188\n",
            "Epoch 9/10\n",
            "782/782 [==============================] - 73s 93ms/step - loss: 1.1065 - accuracy: 0.6113 - val_loss: 1.0461 - val_accuracy: 0.6243\n",
            "Epoch 10/10\n",
            "782/782 [==============================] - 73s 93ms/step - loss: 1.0692 - accuracy: 0.6229 - val_loss: 0.9914 - val_accuracy: 0.6519\n",
            "313/313 [==============================] - 5s 17ms/step - loss: 0.9914 - accuracy: 0.6519\n"
          ]
        }
      ]
    },
    {
      "cell_type": "markdown",
      "source": [
        "Как видим результат трехнитевой модели меньшей глубины оказался сопоставим с метрикой более глубокой двухнитевой модели на сопоставимом количестве эпох. Попробуем вернуться к двухнитевой модели и добавить еще пулинговые слои после сверточных и дополнительный слой в полносвязной части."
      ],
      "metadata": {
        "id": "YQMnalSzrV6s"
      }
    },
    {
      "cell_type": "code",
      "source": [
        "epochs = 10\n",
        "batch_size = 64\n",
        "\n",
        "first_input = Input(shape=x_train.shape[1:])\n",
        "x11 = Conv2D(32, 3, activation='relu', padding = 'same')(first_input)\n",
        "x12 = Conv2D(64, 3, activation='relu', padding = 'same')(x11)\n",
        "x13 = Conv2D(128, 3, activation='relu', padding = 'same')(x12)\n",
        "x14 = MaxPooling2D(pool_size=(2, 2))(x13)\n",
        "first_dense = x14\n",
        "\n",
        "x21 = Conv2D(32, 5, activation='relu', padding = 'same')(first_input)\n",
        "x22 = Conv2D(64, 5, activation='relu', padding = 'same')(x21)\n",
        "x23 = Conv2D(128, 5, activation='relu', padding = 'same')(x22)\n",
        "x24 = MaxPooling2D(pool_size=(2, 2))(x23)\n",
        "second_dense = x24\n",
        "\n",
        "merge = Concatenate(axis = -1)([first_dense, second_dense])\n",
        "\n",
        "merge_flat = Flatten()(merge)\n",
        "merge_dense1 = Dense(512, activation='relu')(merge_flat)\n",
        "merge_dense2 = Dense(128, activation='relu')(merge_dense1)\n",
        "merge_class = Dense(10, activation='softmax')(merge_dense2)\n",
        "\n",
        "model_2stek = Model(inputs=first_input, outputs=merge_class)\n",
        "model_2stek.compile(optimizer='SGD', \n",
        "                    loss=keras.losses.CategoricalCrossentropy(),\n",
        "                    metrics=['accuracy'])\n",
        "hist = model_2stek.fit(datagen.flow(x_train, y_train,\n",
        "                                    batch_size=batch_size), \n",
        "                        epochs = epochs, validation_data=(x_test, y_test))\n",
        "\n",
        "# проверка работы обученной модели\n",
        "print('Test')\n",
        "scores = model_2stek.evaluate(x_test, y_test, verbose=1)"
      ],
      "metadata": {
        "colab": {
          "base_uri": "https://localhost:8080/"
        },
        "id": "JAZj6UDisen0",
        "outputId": "e585ff36-659a-4cb3-d753-5fc22de8eacb"
      },
      "execution_count": 40,
      "outputs": [
        {
          "output_type": "stream",
          "name": "stdout",
          "text": [
            "Epoch 1/10\n",
            "782/782 [==============================] - 67s 84ms/step - loss: 1.9751 - accuracy: 0.2838 - val_loss: 1.6841 - val_accuracy: 0.3980\n",
            "Epoch 2/10\n",
            "782/782 [==============================] - 65s 83ms/step - loss: 1.6384 - accuracy: 0.4149 - val_loss: 1.4515 - val_accuracy: 0.4874\n",
            "Epoch 3/10\n",
            "782/782 [==============================] - 65s 83ms/step - loss: 1.4654 - accuracy: 0.4755 - val_loss: 1.3068 - val_accuracy: 0.5360\n",
            "Epoch 4/10\n",
            "782/782 [==============================] - 65s 83ms/step - loss: 1.3545 - accuracy: 0.5167 - val_loss: 1.2325 - val_accuracy: 0.5638\n",
            "Epoch 5/10\n",
            "782/782 [==============================] - 64s 82ms/step - loss: 1.2704 - accuracy: 0.5460 - val_loss: 1.1755 - val_accuracy: 0.5785\n",
            "Epoch 6/10\n",
            "782/782 [==============================] - 65s 83ms/step - loss: 1.1974 - accuracy: 0.5733 - val_loss: 1.1305 - val_accuracy: 0.5991\n",
            "Epoch 7/10\n",
            "782/782 [==============================] - 65s 83ms/step - loss: 1.1315 - accuracy: 0.5952 - val_loss: 1.0338 - val_accuracy: 0.6347\n",
            "Epoch 8/10\n",
            "782/782 [==============================] - 65s 84ms/step - loss: 1.0779 - accuracy: 0.6208 - val_loss: 0.9970 - val_accuracy: 0.6483\n",
            "Epoch 9/10\n",
            "782/782 [==============================] - 65s 83ms/step - loss: 1.0292 - accuracy: 0.6357 - val_loss: 0.9490 - val_accuracy: 0.6657\n",
            "Epoch 10/10\n",
            "782/782 [==============================] - 65s 83ms/step - loss: 0.9823 - accuracy: 0.6526 - val_loss: 0.9262 - val_accuracy: 0.6704\n",
            "Test\n",
            "313/313 [==============================] - 5s 15ms/step - loss: 0.9262 - accuracy: 0.6704\n"
          ]
        }
      ]
    },
    {
      "cell_type": "markdown",
      "source": [
        "Качество модели незначительно улучшилось, по-хорошему нужно еще дополнительно проверить насколько стабильно это улучшение. Однако опять же видим, что метрики на трейне/тесте указывают, что переобучения еще нет, и можно попробовать безболезненно увеличить количество эпох."
      ],
      "metadata": {
        "id": "xdoX4Nx2veio"
      }
    },
    {
      "cell_type": "code",
      "source": [
        "epochs = 20\n",
        "batch_size = 64\n",
        "\n",
        "first_input = Input(shape=x_train.shape[1:])\n",
        "x11 = Conv2D(32, 3, activation='relu', padding = 'same')(first_input)\n",
        "x12 = Conv2D(64, 3, activation='relu', padding = 'same')(x11)\n",
        "x13 = Conv2D(128, 3, activation='relu', padding = 'same')(x12)\n",
        "x14 = MaxPooling2D(pool_size=(2, 2))(x13)\n",
        "first_dense = x14\n",
        "\n",
        "x21 = Conv2D(32, 5, activation='relu', padding = 'same')(first_input)\n",
        "x22 = Conv2D(64, 5, activation='relu', padding = 'same')(x21)\n",
        "x23 = Conv2D(128, 5, activation='relu', padding = 'same')(x22)\n",
        "x24 = MaxPooling2D(pool_size=(2, 2))(x23)\n",
        "second_dense = x24\n",
        "\n",
        "merge = Concatenate(axis = -1)([first_dense, second_dense])\n",
        "\n",
        "merge_flat = Flatten()(merge)\n",
        "merge_dense1 = Dense(512, activation='relu')(merge_flat)\n",
        "merge_dense2 = Dense(128, activation='relu')(merge_dense1)\n",
        "merge_class = Dense(10, activation='softmax')(merge_dense2)\n",
        "\n",
        "model_2stek = Model(inputs=first_input, outputs=merge_class)\n",
        "model_2stek.compile(optimizer='SGD', \n",
        "                    loss=keras.losses.CategoricalCrossentropy(),\n",
        "                    metrics=['accuracy'])\n",
        "\n",
        "plot_model(model_2stek,'model_2stek.png')\n",
        "\n",
        "\n",
        "hist = model_2stek.fit(datagen.flow(x_train, y_train,\n",
        "                                    batch_size=batch_size), \n",
        "                        epochs = epochs, validation_data=(x_test, y_test))\n",
        "\n",
        "# проверка работы обученной модели\n",
        "print('Test')\n",
        "scores = model_2stek.evaluate(x_test, y_test, verbose=1)"
      ],
      "metadata": {
        "colab": {
          "base_uri": "https://localhost:8080/"
        },
        "id": "ANCzzLbYwgVk",
        "outputId": "ff451d1d-3be0-4118-8b12-aa781b215ef0"
      },
      "execution_count": 41,
      "outputs": [
        {
          "output_type": "stream",
          "name": "stdout",
          "text": [
            "Epoch 1/20\n",
            "782/782 [==============================] - 66s 83ms/step - loss: 1.9352 - accuracy: 0.3044 - val_loss: 1.6616 - val_accuracy: 0.4078\n",
            "Epoch 2/20\n",
            "782/782 [==============================] - 65s 82ms/step - loss: 1.6117 - accuracy: 0.4227 - val_loss: 1.4599 - val_accuracy: 0.4736\n",
            "Epoch 3/20\n",
            "782/782 [==============================] - 65s 83ms/step - loss: 1.4490 - accuracy: 0.4798 - val_loss: 1.3221 - val_accuracy: 0.5298\n",
            "Epoch 4/20\n",
            "782/782 [==============================] - 65s 83ms/step - loss: 1.3419 - accuracy: 0.5191 - val_loss: 1.2131 - val_accuracy: 0.5600\n",
            "Epoch 5/20\n",
            "782/782 [==============================] - 65s 83ms/step - loss: 1.2679 - accuracy: 0.5464 - val_loss: 1.1680 - val_accuracy: 0.5858\n",
            "Epoch 6/20\n",
            "782/782 [==============================] - 65s 83ms/step - loss: 1.1980 - accuracy: 0.5722 - val_loss: 1.1327 - val_accuracy: 0.5954\n",
            "Epoch 7/20\n",
            "782/782 [==============================] - 65s 83ms/step - loss: 1.1403 - accuracy: 0.5921 - val_loss: 1.0538 - val_accuracy: 0.6262\n",
            "Epoch 8/20\n",
            "782/782 [==============================] - 65s 83ms/step - loss: 1.0824 - accuracy: 0.6149 - val_loss: 1.0423 - val_accuracy: 0.6361\n",
            "Epoch 9/20\n",
            "782/782 [==============================] - 65s 83ms/step - loss: 1.0289 - accuracy: 0.6347 - val_loss: 1.0146 - val_accuracy: 0.6423\n",
            "Epoch 10/20\n",
            "782/782 [==============================] - 65s 83ms/step - loss: 0.9847 - accuracy: 0.6511 - val_loss: 0.9384 - val_accuracy: 0.6738\n",
            "Epoch 11/20\n",
            "782/782 [==============================] - 65s 82ms/step - loss: 0.9435 - accuracy: 0.6672 - val_loss: 0.9094 - val_accuracy: 0.6800\n",
            "Epoch 12/20\n",
            "782/782 [==============================] - 65s 82ms/step - loss: 0.9059 - accuracy: 0.6811 - val_loss: 0.8918 - val_accuracy: 0.6894\n",
            "Epoch 13/20\n",
            "782/782 [==============================] - 65s 83ms/step - loss: 0.8734 - accuracy: 0.6941 - val_loss: 0.8757 - val_accuracy: 0.6948\n",
            "Epoch 14/20\n",
            "782/782 [==============================] - 65s 83ms/step - loss: 0.8438 - accuracy: 0.7017 - val_loss: 0.8456 - val_accuracy: 0.7084\n",
            "Epoch 15/20\n",
            "782/782 [==============================] - 64s 82ms/step - loss: 0.8095 - accuracy: 0.7163 - val_loss: 0.8070 - val_accuracy: 0.7214\n",
            "Epoch 16/20\n",
            "782/782 [==============================] - 63s 81ms/step - loss: 0.7764 - accuracy: 0.7275 - val_loss: 0.7756 - val_accuracy: 0.7315\n",
            "Epoch 17/20\n",
            "782/782 [==============================] - 64s 81ms/step - loss: 0.7502 - accuracy: 0.7358 - val_loss: 0.7654 - val_accuracy: 0.7347\n",
            "Epoch 18/20\n",
            "782/782 [==============================] - 63s 81ms/step - loss: 0.7273 - accuracy: 0.7437 - val_loss: 0.7535 - val_accuracy: 0.7388\n",
            "Epoch 19/20\n",
            "782/782 [==============================] - 64s 81ms/step - loss: 0.7025 - accuracy: 0.7544 - val_loss: 0.8423 - val_accuracy: 0.7063\n",
            "Epoch 20/20\n",
            "782/782 [==============================] - 64s 81ms/step - loss: 0.6773 - accuracy: 0.7611 - val_loss: 0.7531 - val_accuracy: 0.7463\n",
            "Test\n",
            "313/313 [==============================] - 5s 15ms/step - loss: 0.7531 - accuracy: 0.7463\n"
          ]
        }
      ]
    },
    {
      "cell_type": "code",
      "source": [
        "N = 141\n",
        "y_p=model_2stek.predict(x_test[N:N+1][:,:,:])\n",
        "y_t = np.argmax(y_test[N:N+1], axis = 1 )\n",
        "y_i = np.argmax(y_p, axis = 1 )\n",
        "plt.imshow(x_test[N][:,:,:])\n",
        "plt.title('это : '+classes[y_t[0]]+'- опознан как : '+classes[y_i[0]])\n",
        "plt.show()"
      ],
      "metadata": {
        "id": "l9us-LUH03pk",
        "colab": {
          "base_uri": "https://localhost:8080/",
          "height": 281
        },
        "outputId": "68d6f151-afba-4592-c7e0-61ee9de3eff8"
      },
      "execution_count": 42,
      "outputs": [
        {
          "output_type": "display_data",
          "data": {
            "image/png": "[encoded data removed]",
            "text/plain": [
              "<Figure size 432x288 with 1 Axes>"
            ]
          },
          "metadata": {
            "needs_background": "light"
          }
        }
      ]
    },
    {
      "cell_type": "markdown",
      "source": [
        "В качестве дальнейших шагов улучшения модели можно рассмотреть еще большее увеличение количества эпох, пока метрики позволяют, и добавление дропаут слоев, чтобы предупредить проблему переобучения."
      ],
      "metadata": {
        "id": "uXKYVk7p11vk"
      }
    }
  ]
}