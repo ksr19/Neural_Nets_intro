{
  "nbformat": 4,
  "nbformat_minor": 0,
  "metadata": {
    "colab": {
      "name": "HW3.ipynb",
      "provenance": [],
      "collapsed_sections": []
    },
    "kernelspec": {
      "name": "python3",
      "display_name": "Python 3"
    },
    "language_info": {
      "name": "python"
    }
  },
  "cells": [
    {
      "cell_type": "markdown",
      "source": [
        "## Урок 3. Домашнее задание"
      ],
      "metadata": {
        "id": "aFaQ1sZQadSU"
      }
    },
    {
      "cell_type": "markdown",
      "source": [
        "## Практическое задание\n",
        "\n",
        "  1. Постройте нейронную сеть(берем простую линейную сеть, которую разбирали на уроке: меняем число слоев, число нейронов , типы активации, тип оптимизатора)  на датасет from sklearn.datasets import load_boston. \n",
        "  2. Измените функцию потерь и метрику для этой задачи. Постройте 10-15 вариантов и сведите результаты их работы в таблицу  Опишите, какого результата вы добились от нейросети? Что помогло вам улучшить ее точность?\n",
        "\n",
        "  3. Поработайте с документацией TensorFlow 2. Найти 2-3 полезные команды TensorFlow, не разобранные на уроке (полезные для Вас).\n",
        "\n",
        "  1-2. (*)  Попробуйте обучить нейронную сеть на TensorFlow 2 на датасете imdb_reviews .Опишите, какого результата вы добились от нейросети? Что помогло вам улучшить ее точность?\n",
        "    \n",
        "    \n",
        "</ol>"
      ],
      "metadata": {
        "id": "zhQpws7-ahGE"
      }
    },
    {
      "cell_type": "markdown",
      "source": [
        "## Предобработка данных"
      ],
      "metadata": {
        "id": "W3aQLEjU7vro"
      }
    },
    {
      "cell_type": "code",
      "source": [
        "!pip install tensorflow_addons"
      ],
      "metadata": {
        "colab": {
          "base_uri": "https://localhost:8080/"
        },
        "id": "sueywl5dhh74",
        "outputId": "e8550a04-109b-4ae4-f2b0-2c7f73e70fd1"
      },
      "execution_count": 113,
      "outputs": [
        {
          "output_type": "stream",
          "name": "stdout",
          "text": [
            "Requirement already satisfied: tensorflow_addons in /usr/local/lib/python3.7/dist-packages (0.15.0)\n",
            "Requirement already satisfied: typeguard>=2.7 in /usr/local/lib/python3.7/dist-packages (from tensorflow_addons) (2.7.1)\n"
          ]
        }
      ]
    },
    {
      "cell_type": "code",
      "execution_count": 114,
      "metadata": {
        "colab": {
          "base_uri": "https://localhost:8080/"
        },
        "id": "fFhXLQtvaFVg",
        "outputId": "84a9fab8-fd5a-44e7-86d3-e083384ef374"
      },
      "outputs": [
        {
          "output_type": "stream",
          "name": "stdout",
          "text": [
            "2.7.0\n"
          ]
        }
      ],
      "source": [
        "import numpy as np\n",
        "import pandas as pd\n",
        "import matplotlib.pyplot as plt\n",
        "import tensorflow as tf\n",
        "import tensorflow_addons as tfa\n",
        "import seaborn as sns\n",
        "\n",
        "from tensorflow.keras.layers import Input, Flatten, Dense, Dropout\n",
        "from tensorflow.keras.models import Model, Sequential\n",
        "from tensorflow_datasets.text import IMDBReviews\n",
        "\n",
        "from sklearn.datasets import load_boston\n",
        "from sklearn.model_selection import train_test_split\n",
        "from sklearn.pipeline import Pipeline, make_pipeline, FeatureUnion\n",
        "from sklearn.preprocessing import StandardScaler\n",
        "from sklearn.base import BaseEstimator, TransformerMixin\n",
        "\n",
        "import warnings\n",
        "warnings.simplefilter(action='ignore', category=FutureWarning)\n",
        "\n",
        "print(tf.__version__)"
      ]
    },
    {
      "cell_type": "markdown",
      "source": [
        "Загрузим датасет с ценами на жилье в Бостоне и сразу разобьем его на обучающую и тестовую выборки:"
      ],
      "metadata": {
        "id": "eQwfGyuosULo"
      }
    },
    {
      "cell_type": "code",
      "source": [
        "X, y = load_boston(return_X_y=True)\n",
        "\n",
        "X_train, X_test, y_train, y_test = train_test_split(X, y, test_size=0.3, \n",
        "                                                    shuffle=True, \n",
        "                                                    random_state=42)\n",
        "\n",
        "train_df = pd.DataFrame(X_train, columns=load_boston().feature_names)\n",
        "test_df = pd.DataFrame(X_test, columns=load_boston().feature_names)"
      ],
      "metadata": {
        "id": "R_xXXjNgaL2s"
      },
      "execution_count": 115,
      "outputs": []
    },
    {
      "cell_type": "markdown",
      "source": [
        "Посмотрим на типы и основные статистики признаков в изучаемом датасете:"
      ],
      "metadata": {
        "id": "4D-T9oBArrxs"
      }
    },
    {
      "cell_type": "code",
      "source": [
        "train_df.info()"
      ],
      "metadata": {
        "colab": {
          "base_uri": "https://localhost:8080/"
        },
        "id": "exUyaq8tcRbI",
        "outputId": "75790e9a-e6bd-4967-e042-d7acac67642c"
      },
      "execution_count": 116,
      "outputs": [
        {
          "output_type": "stream",
          "name": "stdout",
          "text": [
            "<class 'pandas.core.frame.DataFrame'>\n",
            "RangeIndex: 354 entries, 0 to 353\n",
            "Data columns (total 13 columns):\n",
            " #   Column   Non-Null Count  Dtype  \n",
            "---  ------   --------------  -----  \n",
            " 0   CRIM     354 non-null    float64\n",
            " 1   ZN       354 non-null    float64\n",
            " 2   INDUS    354 non-null    float64\n",
            " 3   CHAS     354 non-null    float64\n",
            " 4   NOX      354 non-null    float64\n",
            " 5   RM       354 non-null    float64\n",
            " 6   AGE      354 non-null    float64\n",
            " 7   DIS      354 non-null    float64\n",
            " 8   RAD      354 non-null    float64\n",
            " 9   TAX      354 non-null    float64\n",
            " 10  PTRATIO  354 non-null    float64\n",
            " 11  B        354 non-null    float64\n",
            " 12  LSTAT    354 non-null    float64\n",
            "dtypes: float64(13)\n",
            "memory usage: 36.1 KB\n"
          ]
        }
      ]
    },
    {
      "cell_type": "code",
      "source": [
        "train_df.describe()"
      ],
      "metadata": {
        "colab": {
          "base_uri": "https://localhost:8080/",
          "height": 300
        },
        "id": "miVxh3z6rVfI",
        "outputId": "081cd01a-c7c0-4950-cb8e-762c3990e5b2"
      },
      "execution_count": 117,
      "outputs": [
        {
          "output_type": "execute_result",
          "data": {
            "text/html": [
              "\n",
              "  <div id=\"df-dc02e3cb-dc6f-45f5-872e-30499c6057f2\">\n",
              "    <div class=\"colab-df-container\">\n",
              "      <div>\n",
              "<style scoped>\n",
              "    .dataframe tbody tr th:only-of-type {\n",
              "        vertical-align: middle;\n",
              "    }\n",
              "\n",
              "    .dataframe tbody tr th {\n",
              "        vertical-align: top;\n",
              "    }\n",
              "\n",
              "    .dataframe thead th {\n",
              "        text-align: right;\n",
              "    }\n",
              "</style>\n",
              "<table border=\"1\" class=\"dataframe\">\n",
              "  <thead>\n",
              "    <tr style=\"text-align: right;\">\n",
              "      <th></th>\n",
              "      <th>CRIM</th>\n",
              "      <th>ZN</th>\n",
              "      <th>INDUS</th>\n",
              "      <th>CHAS</th>\n",
              "      <th>NOX</th>\n",
              "      <th>RM</th>\n",
              "      <th>AGE</th>\n",
              "      <th>DIS</th>\n",
              "      <th>RAD</th>\n",
              "      <th>TAX</th>\n",
              "      <th>PTRATIO</th>\n",
              "      <th>B</th>\n",
              "      <th>LSTAT</th>\n",
              "    </tr>\n",
              "  </thead>\n",
              "  <tbody>\n",
              "    <tr>\n",
              "      <th>count</th>\n",
              "      <td>354.000000</td>\n",
              "      <td>354.000000</td>\n",
              "      <td>354.000000</td>\n",
              "      <td>354.000000</td>\n",
              "      <td>354.000000</td>\n",
              "      <td>354.000000</td>\n",
              "      <td>354.000000</td>\n",
              "      <td>354.000000</td>\n",
              "      <td>354.000000</td>\n",
              "      <td>354.000000</td>\n",
              "      <td>354.000000</td>\n",
              "      <td>354.000000</td>\n",
              "      <td>354.000000</td>\n",
              "    </tr>\n",
              "    <tr>\n",
              "      <th>mean</th>\n",
              "      <td>3.469887</td>\n",
              "      <td>11.403955</td>\n",
              "      <td>11.133051</td>\n",
              "      <td>0.073446</td>\n",
              "      <td>0.557259</td>\n",
              "      <td>6.325672</td>\n",
              "      <td>68.799718</td>\n",
              "      <td>3.765874</td>\n",
              "      <td>9.437853</td>\n",
              "      <td>407.042373</td>\n",
              "      <td>18.277966</td>\n",
              "      <td>359.701808</td>\n",
              "      <td>12.421130</td>\n",
              "    </tr>\n",
              "    <tr>\n",
              "      <th>std</th>\n",
              "      <td>8.315831</td>\n",
              "      <td>22.608457</td>\n",
              "      <td>6.938651</td>\n",
              "      <td>0.261237</td>\n",
              "      <td>0.116792</td>\n",
              "      <td>0.719211</td>\n",
              "      <td>27.665360</td>\n",
              "      <td>2.126032</td>\n",
              "      <td>8.639971</td>\n",
              "      <td>166.522237</td>\n",
              "      <td>2.256792</td>\n",
              "      <td>86.924779</td>\n",
              "      <td>7.112402</td>\n",
              "    </tr>\n",
              "    <tr>\n",
              "      <th>min</th>\n",
              "      <td>0.009060</td>\n",
              "      <td>0.000000</td>\n",
              "      <td>1.210000</td>\n",
              "      <td>0.000000</td>\n",
              "      <td>0.385000</td>\n",
              "      <td>3.863000</td>\n",
              "      <td>2.900000</td>\n",
              "      <td>1.129600</td>\n",
              "      <td>1.000000</td>\n",
              "      <td>187.000000</td>\n",
              "      <td>12.600000</td>\n",
              "      <td>0.320000</td>\n",
              "      <td>1.730000</td>\n",
              "    </tr>\n",
              "    <tr>\n",
              "      <th>25%</th>\n",
              "      <td>0.082320</td>\n",
              "      <td>0.000000</td>\n",
              "      <td>5.130000</td>\n",
              "      <td>0.000000</td>\n",
              "      <td>0.450000</td>\n",
              "      <td>5.889500</td>\n",
              "      <td>46.025000</td>\n",
              "      <td>2.073700</td>\n",
              "      <td>4.000000</td>\n",
              "      <td>279.000000</td>\n",
              "      <td>16.650000</td>\n",
              "      <td>376.782500</td>\n",
              "      <td>6.862500</td>\n",
              "    </tr>\n",
              "    <tr>\n",
              "      <th>50%</th>\n",
              "      <td>0.256510</td>\n",
              "      <td>0.000000</td>\n",
              "      <td>9.690000</td>\n",
              "      <td>0.000000</td>\n",
              "      <td>0.538000</td>\n",
              "      <td>6.227500</td>\n",
              "      <td>77.350000</td>\n",
              "      <td>3.107300</td>\n",
              "      <td>5.000000</td>\n",
              "      <td>330.000000</td>\n",
              "      <td>18.600000</td>\n",
              "      <td>391.600000</td>\n",
              "      <td>10.925000</td>\n",
              "    </tr>\n",
              "    <tr>\n",
              "      <th>75%</th>\n",
              "      <td>3.281688</td>\n",
              "      <td>20.000000</td>\n",
              "      <td>18.100000</td>\n",
              "      <td>0.000000</td>\n",
              "      <td>0.631000</td>\n",
              "      <td>6.681750</td>\n",
              "      <td>93.475000</td>\n",
              "      <td>5.400700</td>\n",
              "      <td>24.000000</td>\n",
              "      <td>666.000000</td>\n",
              "      <td>20.200000</td>\n",
              "      <td>396.172500</td>\n",
              "      <td>16.225000</td>\n",
              "    </tr>\n",
              "    <tr>\n",
              "      <th>max</th>\n",
              "      <td>88.976200</td>\n",
              "      <td>95.000000</td>\n",
              "      <td>27.740000</td>\n",
              "      <td>1.000000</td>\n",
              "      <td>0.871000</td>\n",
              "      <td>8.780000</td>\n",
              "      <td>100.000000</td>\n",
              "      <td>12.126500</td>\n",
              "      <td>24.000000</td>\n",
              "      <td>711.000000</td>\n",
              "      <td>22.000000</td>\n",
              "      <td>396.900000</td>\n",
              "      <td>37.970000</td>\n",
              "    </tr>\n",
              "  </tbody>\n",
              "</table>\n",
              "</div>\n",
              "      <button class=\"colab-df-convert\" onclick=\"convertToInteractive('df-dc02e3cb-dc6f-45f5-872e-30499c6057f2')\"\n",
              "              title=\"Convert this dataframe to an interactive table.\"\n",
              "              style=\"display:none;\">\n",
              "        \n",
              "  <svg xmlns=\"http://www.w3.org/2000/svg\" height=\"24px\"viewBox=\"0 0 24 24\"\n",
              "       width=\"24px\">\n",
              "    <path d=\"M0 0h24v24H0V0z\" fill=\"none\"/>\n",
              "    <path d=\"M18.56 5.44l.94 2.06.94-2.06 2.06-.94-2.06-.94-.94-2.06-.94 2.06-2.06.94zm-11 1L8.5 8.5l.94-2.06 2.06-.94-2.06-.94L8.5 2.5l-.94 2.06-2.06.94zm10 10l.94 2.06.94-2.06 2.06-.94-2.06-.94-.94-2.06-.94 2.06-2.06.94z\"/><path d=\"M17.41 7.96l-1.37-1.37c-.4-.4-.92-.59-1.43-.59-.52 0-1.04.2-1.43.59L10.3 9.45l-7.72 7.72c-.78.78-.78 2.05 0 2.83L4 21.41c.39.39.9.59 1.41.59.51 0 1.02-.2 1.41-.59l7.78-7.78 2.81-2.81c.8-.78.8-2.07 0-2.86zM5.41 20L4 18.59l7.72-7.72 1.47 1.35L5.41 20z\"/>\n",
              "  </svg>\n",
              "      </button>\n",
              "      \n",
              "  <style>\n",
              "    .colab-df-container {\n",
              "      display:flex;\n",
              "      flex-wrap:wrap;\n",
              "      gap: 12px;\n",
              "    }\n",
              "\n",
              "    .colab-df-convert {\n",
              "      background-color: #E8F0FE;\n",
              "      border: none;\n",
              "      border-radius: 50%;\n",
              "      cursor: pointer;\n",
              "      display: none;\n",
              "      fill: #1967D2;\n",
              "      height: 32px;\n",
              "      padding: 0 0 0 0;\n",
              "      width: 32px;\n",
              "    }\n",
              "\n",
              "    .colab-df-convert:hover {\n",
              "      background-color: #E2EBFA;\n",
              "      box-shadow: 0px 1px 2px rgba(60, 64, 67, 0.3), 0px 1px 3px 1px rgba(60, 64, 67, 0.15);\n",
              "      fill: #174EA6;\n",
              "    }\n",
              "\n",
              "    [theme=dark] .colab-df-convert {\n",
              "      background-color: #3B4455;\n",
              "      fill: #D2E3FC;\n",
              "    }\n",
              "\n",
              "    [theme=dark] .colab-df-convert:hover {\n",
              "      background-color: #434B5C;\n",
              "      box-shadow: 0px 1px 3px 1px rgba(0, 0, 0, 0.15);\n",
              "      filter: drop-shadow(0px 1px 2px rgba(0, 0, 0, 0.3));\n",
              "      fill: #FFFFFF;\n",
              "    }\n",
              "  </style>\n",
              "\n",
              "      <script>\n",
              "        const buttonEl =\n",
              "          document.querySelector('#df-dc02e3cb-dc6f-45f5-872e-30499c6057f2 button.colab-df-convert');\n",
              "        buttonEl.style.display =\n",
              "          google.colab.kernel.accessAllowed ? 'block' : 'none';\n",
              "\n",
              "        async function convertToInteractive(key) {\n",
              "          const element = document.querySelector('#df-dc02e3cb-dc6f-45f5-872e-30499c6057f2');\n",
              "          const dataTable =\n",
              "            await google.colab.kernel.invokeFunction('convertToInteractive',\n",
              "                                                     [key], {});\n",
              "          if (!dataTable) return;\n",
              "\n",
              "          const docLinkHtml = 'Like what you see? Visit the ' +\n",
              "            '<a target=\"_blank\" href=https://colab.research.google.com/notebooks/data_table.ipynb>data table notebook</a>'\n",
              "            + ' to learn more about interactive tables.';\n",
              "          element.innerHTML = '';\n",
              "          dataTable['output_type'] = 'display_data';\n",
              "          await google.colab.output.renderOutput(dataTable, element);\n",
              "          const docLink = document.createElement('div');\n",
              "          docLink.innerHTML = docLinkHtml;\n",
              "          element.appendChild(docLink);\n",
              "        }\n",
              "      </script>\n",
              "    </div>\n",
              "  </div>\n",
              "  "
            ],
            "text/plain": [
              "             CRIM          ZN       INDUS  ...     PTRATIO           B       LSTAT\n",
              "count  354.000000  354.000000  354.000000  ...  354.000000  354.000000  354.000000\n",
              "mean     3.469887   11.403955   11.133051  ...   18.277966  359.701808   12.421130\n",
              "std      8.315831   22.608457    6.938651  ...    2.256792   86.924779    7.112402\n",
              "min      0.009060    0.000000    1.210000  ...   12.600000    0.320000    1.730000\n",
              "25%      0.082320    0.000000    5.130000  ...   16.650000  376.782500    6.862500\n",
              "50%      0.256510    0.000000    9.690000  ...   18.600000  391.600000   10.925000\n",
              "75%      3.281688   20.000000   18.100000  ...   20.200000  396.172500   16.225000\n",
              "max     88.976200   95.000000   27.740000  ...   22.000000  396.900000   37.970000\n",
              "\n",
              "[8 rows x 13 columns]"
            ]
          },
          "metadata": {},
          "execution_count": 117
        }
      ]
    },
    {
      "cell_type": "markdown",
      "source": [
        "Видим, что все признаки вещественные, однако имеют разную размерность, что может создать проблемы при осуществлении процедуры градиентного спуска, поэтому нормализуем данные. Кроме того заметим, что признак `CHAS` принимает всего два значения и к нему можно не применять нормализацию."
      ],
      "metadata": {
        "id": "hhvSyxkNtRjw"
      }
    },
    {
      "cell_type": "code",
      "source": [
        "train_df['CHAS'].value_counts()"
      ],
      "metadata": {
        "colab": {
          "base_uri": "https://localhost:8080/"
        },
        "id": "wpJjyBeR6mV4",
        "outputId": "86a4b088-0ad8-4c89-c69b-a68869476d8c"
      },
      "execution_count": 118,
      "outputs": [
        {
          "output_type": "execute_result",
          "data": {
            "text/plain": [
              "0.0    328\n",
              "1.0     26\n",
              "Name: CHAS, dtype: int64"
            ]
          },
          "metadata": {},
          "execution_count": 118
        }
      ]
    },
    {
      "cell_type": "code",
      "source": [
        "class NumberSelector(BaseEstimator, TransformerMixin):\n",
        "    def __init__(self, key):\n",
        "        self.key = key\n",
        "\n",
        "    def fit(self, X, y=None):\n",
        "        return self\n",
        "\n",
        "    def transform(self, X):\n",
        "        return X[[self.key]]"
      ],
      "metadata": {
        "id": "m5AAENAfhd0k"
      },
      "execution_count": 119,
      "outputs": []
    },
    {
      "cell_type": "code",
      "source": [
        "cont_transformers = []\n",
        "cont_columns = ['CRIM', 'ZN', 'INDUS', 'NOX', 'RM', 'AGE', 'DIS', 'RAD', 'TAX',\n",
        "       'PTRATIO', 'B', 'LSTAT']\n",
        "\n",
        "cat_transformers = []\n",
        "cat_columns = ['CHAS']\n",
        "\n",
        "for col in cont_columns:\n",
        "    transfomer =  Pipeline([\n",
        "                ('selector', NumberSelector(key=col)),\n",
        "                ('standard', StandardScaler())\n",
        "            ])\n",
        "    cont_transformers.append((col, transfomer))\n",
        "\n",
        "for col in cat_columns:\n",
        "    transfomer =  Pipeline([\n",
        "                ('selector', NumberSelector(key=col)),\n",
        "            ])\n",
        "    cat_transformers.append((col, transfomer))\n",
        "\n",
        "feats = FeatureUnion(cont_transformers+cat_transformers)"
      ],
      "metadata": {
        "id": "8MPTQaS4hgHc"
      },
      "execution_count": 120,
      "outputs": []
    },
    {
      "cell_type": "code",
      "source": [
        "X_train = feats.fit_transform(train_df)\n",
        "X_test = feats.transform(test_df)"
      ],
      "metadata": {
        "id": "9TYutWuoj3Nw"
      },
      "execution_count": 121,
      "outputs": []
    },
    {
      "cell_type": "code",
      "source": [
        "plt.figure(figsize=(12, 8))\n",
        "sns.histplot(y, stat='count', kde=True)\n",
        "\n",
        "plt.xlabel('Цена жилья')\n",
        "plt.ylabel('Количество наблюдений')\n",
        "plt.title('График распределения целевой переменной')\n",
        "plt.show()"
      ],
      "metadata": {
        "colab": {
          "base_uri": "https://localhost:8080/",
          "height": 513
        },
        "id": "FsNPEOKx71a0",
        "outputId": "fb552298-89c6-4489-bd76-14e5536ecc1d"
      },
      "execution_count": 122,
      "outputs": [
        {
          "output_type": "display_data",
          "data": {
            "image/png": "[encoded data removed]",
            "text/plain": [
              "<Figure size 864x576 with 1 Axes>"
            ]
          },
          "metadata": {
            "needs_background": "light"
          }
        }
      ]
    },
    {
      "cell_type": "markdown",
      "source": [
        "Заметен выброс в правой части распределения, который заметно утяжеляет хвост распределения."
      ],
      "metadata": {
        "id": "O5QxwofB98jQ"
      }
    },
    {
      "cell_type": "markdown",
      "source": [
        "## Построение модели"
      ],
      "metadata": {
        "id": "1ULChHwR7sgg"
      }
    },
    {
      "cell_type": "markdown",
      "source": [
        "В качестве baseline построим сеть с двумя внутренними слоями и линейной активацией."
      ],
      "metadata": {
        "id": "j4b3-YFtl8bk"
      }
    },
    {
      "cell_type": "code",
      "source": [
        "model = Sequential([\n",
        "                    Dense(32, activation='linear', input_shape=(13,)),\n",
        "                    Dense(16, activation='linear'),\n",
        "                    Dense(1, activation='linear')\n",
        "                    ])\n",
        "\n",
        "model.summary()"
      ],
      "metadata": {
        "colab": {
          "base_uri": "https://localhost:8080/"
        },
        "id": "sR5gwdfAvEu4",
        "outputId": "c3ae07b0-a9dc-4893-fede-2b5ac388263f"
      },
      "execution_count": 123,
      "outputs": [
        {
          "output_type": "stream",
          "name": "stdout",
          "text": [
            "Model: \"sequential_145\"\n",
            "_________________________________________________________________\n",
            " Layer (type)                Output Shape              Param #   \n",
            "=================================================================\n",
            " dense_570 (Dense)           (None, 32)                448       \n",
            "                                                                 \n",
            " dense_571 (Dense)           (None, 16)                528       \n",
            "                                                                 \n",
            " dense_572 (Dense)           (None, 1)                 17        \n",
            "                                                                 \n",
            "=================================================================\n",
            "Total params: 993\n",
            "Trainable params: 993\n",
            "Non-trainable params: 0\n",
            "_________________________________________________________________\n"
          ]
        }
      ]
    },
    {
      "cell_type": "markdown",
      "source": [
        "С учетом условий задачи по моему мнению можно использовать среднеквадратическую ошибку как лосс и $R^{2}$ как метрику для оценки качества модели. Скомпилируем модель:"
      ],
      "metadata": {
        "id": "ShIHnPCVxPYU"
      }
    },
    {
      "cell_type": "code",
      "source": [
        "model.compile(loss=tf.keras.losses.MeanSquaredError(),\n",
        "              metrics=tfa.metrics.RSquare(dtype=tf.float32, y_shape=(1,)))"
      ],
      "metadata": {
        "id": "P3mzvXp9xS64"
      },
      "execution_count": 124,
      "outputs": []
    },
    {
      "cell_type": "markdown",
      "source": [
        "Оценим качество модель:"
      ],
      "metadata": {
        "id": "Ogs_qMq-yoE4"
      }
    },
    {
      "cell_type": "code",
      "source": [
        "# if tf.config.experimental.list_physical_devices(\"GPU\"):\n",
        "#   with tf.device(\"GPU:0\"): \n",
        "h = model.fit(X_train, y_train, epochs=30, validation_split=0.15, verbose=0)\n",
        "test_loss, test_r2 = model.evaluate(X_test, y_test, verbose=0)\n",
        "print(f'R2 на трейне - {h.history.get(\"r_square\")[-1]:.6f};\\n'\n",
        "      f'R2 на валидационном сете - {h.history.get(\"val_r_square\")[-1]:.6f};\\n'\n",
        "      f'R2 на тесте - {test_r2:6f}.')\n",
        "    "
      ],
      "metadata": {
        "id": "ymWcWyZNx1d0",
        "colab": {
          "base_uri": "https://localhost:8080/"
        },
        "outputId": "98fec560-426e-43c3-e6a6-1f52794884eb"
      },
      "execution_count": 125,
      "outputs": [
        {
          "output_type": "stream",
          "name": "stdout",
          "text": [
            "R2 на трейне - 0.707494;\n",
            "R2 на валидационном сете - 0.633002;\n",
            "R2 на тесте - 0.625897.\n"
          ]
        }
      ]
    },
    {
      "cell_type": "markdown",
      "source": [
        "Как видим модель получилась весьма посредственная, попробуем улучшить ее. Для начала попробуем изменить количество нейронов в слоях и количество эпох:"
      ],
      "metadata": {
        "id": "MzqpQY5Q22Hs"
      }
    },
    {
      "cell_type": "code",
      "source": [
        "def eval_model(X_train, y_train, epoch, val_split=0.15):\n",
        "  # if tf.config.experimental.list_physical_devices(\"GPU\"):\n",
        "      # with tf.device(\"GPU:0\"): \n",
        "        h = model.fit(X_train, y_train, epochs=epoch, validation_split=0.15, verbose=0)\n",
        "        test_loss, test_r2 = model.evaluate(X_test, y_test, verbose=0)\n",
        "        print(f'\\tR2 на трейне - {h.history.get(\"r_square\")[-1]:.6f};\\n'\n",
        "              f'\\tR2 на валидационном сете - {h.history.get(\"val_r_square\")[-1]:.6f};\\n'\n",
        "              f'\\tR2 на тесте - {test_r2:6f}.')"
      ],
      "metadata": {
        "id": "-i8IQLZFYLhM"
      },
      "execution_count": 126,
      "outputs": []
    },
    {
      "cell_type": "code",
      "source": [
        "neurons  = [64, 128, 256, 512]\n",
        "epochs = [30, 50, 100, 200]\n",
        "\n",
        "for neuron in neurons:\n",
        "  for epoch in epochs:\n",
        "    model = Sequential([Dense(neuron, activation='linear', input_shape=(13,)),\n",
        "                        Dense(int(neuron/2), activation='linear'),\n",
        "                        Dense(1, activation='linear')])\n",
        "    \n",
        "    model.compile(loss=tf.keras.losses.MeanSquaredError(),\n",
        "                metrics=tfa.metrics.RSquare(dtype=tf.float32, y_shape=(1,)))\n",
        "    \n",
        "    print(f'Количество нейронов в первом внутреннем слое - {neuron}, '\n",
        "          f'Количество эпох - {epoch}:')\n",
        "\n",
        "    eval_model(X_train, y_train, epoch)"
      ],
      "metadata": {
        "colab": {
          "base_uri": "https://localhost:8080/"
        },
        "id": "73f5pGAJjz3s",
        "outputId": "36f40823-9587-400c-8541-8e2b904e06e7"
      },
      "execution_count": 127,
      "outputs": [
        {
          "output_type": "stream",
          "name": "stdout",
          "text": [
            "Количество нейронов в первом внутреннем слое - 64, Количество эпох - 30:\n",
            "\tR2 на трейне - 0.749169;\n",
            "\tR2 на валидационном сете - 0.554660;\n",
            "\tR2 на тесте - 0.626339.\n",
            "Количество нейронов в первом внутреннем слое - 64, Количество эпох - 50:\n",
            "\tR2 на трейне - 0.744270;\n",
            "\tR2 на валидационном сете - 0.562798;\n",
            "\tR2 на тесте - 0.682701.\n",
            "Количество нейронов в первом внутреннем слое - 64, Количество эпох - 100:\n",
            "\tR2 на трейне - 0.751625;\n",
            "\tR2 на валидационном сете - 0.592616;\n",
            "\tR2 на тесте - 0.706971.\n",
            "Количество нейронов в первом внутреннем слое - 64, Количество эпох - 200:\n",
            "\tR2 на трейне - 0.745560;\n",
            "\tR2 на валидационном сете - 0.533622;\n",
            "\tR2 на тесте - 0.657392.\n",
            "Количество нейронов в первом внутреннем слое - 128, Количество эпох - 30:\n",
            "\tR2 на трейне - 0.748083;\n",
            "\tR2 на валидационном сете - 0.457131;\n",
            "\tR2 на тесте - 0.559876.\n",
            "Количество нейронов в первом внутреннем слое - 128, Количество эпох - 50:\n",
            "\tR2 на трейне - 0.733969;\n",
            "\tR2 на валидационном сете - 0.536154;\n",
            "\tR2 на тесте - 0.663751.\n",
            "Количество нейронов в первом внутреннем слое - 128, Количество эпох - 100:\n",
            "\tR2 на трейне - 0.745529;\n",
            "\tR2 на валидационном сете - 0.583834;\n",
            "\tR2 на тесте - 0.702749.\n",
            "Количество нейронов в первом внутреннем слое - 128, Количество эпох - 200:\n",
            "\tR2 на трейне - 0.740014;\n",
            "\tR2 на валидационном сете - 0.518066;\n",
            "\tR2 на тесте - 0.643778.\n",
            "Количество нейронов в первом внутреннем слое - 256, Количество эпох - 30:\n",
            "\tR2 на трейне - 0.734894;\n",
            "\tR2 на валидационном сете - 0.323061;\n",
            "\tR2 на тесте - 0.447036.\n",
            "Количество нейронов в первом внутреннем слое - 256, Количество эпох - 50:\n",
            "\tR2 на трейне - 0.720449;\n",
            "\tR2 на валидационном сете - 0.509595;\n",
            "\tR2 на тесте - 0.641714.\n",
            "Количество нейронов в первом внутреннем слое - 256, Количество эпох - 100:\n",
            "\tR2 на трейне - 0.737453;\n",
            "\tR2 на валидационном сете - 0.570902;\n",
            "\tR2 на тесте - 0.695139.\n",
            "Количество нейронов в первом внутреннем слое - 256, Количество эпох - 200:\n",
            "\tR2 на трейне - 0.735742;\n",
            "\tR2 на валидационном сете - 0.519239;\n",
            "\tR2 на тесте - 0.641494.\n",
            "Количество нейронов в первом внутреннем слое - 512, Количество эпох - 30:\n",
            "\tR2 на трейне - 0.719066;\n",
            "\tR2 на валидационном сете - 0.136148;\n",
            "\tR2 на тесте - 0.287247.\n",
            "Количество нейронов в первом внутреннем слое - 512, Количество эпох - 50:\n",
            "\tR2 на трейне - 0.706460;\n",
            "\tR2 на валидационном сете - 0.517064;\n",
            "\tR2 на тесте - 0.646629.\n",
            "Количество нейронов в первом внутреннем слое - 512, Количество эпох - 100:\n",
            "\tR2 на трейне - 0.731766;\n",
            "\tR2 на валидационном сете - 0.568238;\n",
            "\tR2 на тесте - 0.693054.\n",
            "Количество нейронов в первом внутреннем слое - 512, Количество эпох - 200:\n",
            "\tR2 на трейне - 0.733280;\n",
            "\tR2 на валидационном сете - 0.517131;\n",
            "\tR2 на тесте - 0.637209.\n"
          ]
        }
      ]
    },
    {
      "cell_type": "markdown",
      "source": [
        "При перезапуске метрики сильно меняются, поэтому сложно выбрать оптимальную модель из предыдущих. Одновременно это вероятно дополнительно указывает на низкое качество построенных моделей. Посмотрим, как изменяются результаты модели при использовании разных оптимизаторов:"
      ],
      "metadata": {
        "id": "rZalYbmaEm-s"
      }
    },
    {
      "cell_type": "code",
      "source": [
        "for optim in ['SGD', 'RMSProp','adam','NAdam']:\n",
        "    model = Sequential([Dense(256, activation='linear', input_shape=(13,)),\n",
        "                        Dense(128, activation='linear'),\n",
        "                        Dense(1, activation='linear')])\n",
        "    \n",
        "    model.compile(optimizer=optim,\n",
        "                  loss=tf.keras.losses.MeanSquaredError(),\n",
        "                  metrics=tfa.metrics.RSquare(dtype=tf.float32, y_shape=(1,)))\n",
        "\n",
        "    print(f'Оптимайзер {optim}:')\n",
        "\n",
        "    eval_model(X_train, y_train, epoch=100)"
      ],
      "metadata": {
        "colab": {
          "base_uri": "https://localhost:8080/"
        },
        "id": "x6rSi7jlllbc",
        "outputId": "fccd122a-2cd1-427c-8cf0-078fd67269cb"
      },
      "execution_count": 128,
      "outputs": [
        {
          "output_type": "stream",
          "name": "stdout",
          "text": [
            "Оптимайзер SGD:\n",
            "\tR2 на трейне - nan;\n",
            "\tR2 на валидационном сете - nan;\n",
            "\tR2 на тесте -    nan.\n",
            "Оптимайзер RMSProp:\n",
            "\tR2 на трейне - 0.737452;\n",
            "\tR2 на валидационном сете - 0.572564;\n",
            "\tR2 на тесте - 0.695854.\n",
            "Оптимайзер adam:\n",
            "\tR2 на трейне - 0.749932;\n",
            "\tR2 на валидационном сете - 0.585743;\n",
            "\tR2 на тесте - 0.707165.\n",
            "Оптимайзер NAdam:\n",
            "\tR2 на трейне - 0.749004;\n",
            "\tR2 на валидационном сете - 0.587225;\n",
            "\tR2 на тесте - 0.709734.\n"
          ]
        }
      ]
    },
    {
      "cell_type": "markdown",
      "source": [
        "Результаты для разных оптимайзеров получились схожие, при этом для `SGD` судя по всему модель построить не удалось. Попробуем использовать другую функцию активации и уменьшить скорость обучения:"
      ],
      "metadata": {
        "id": "nW640BkZ0IlM"
      }
    },
    {
      "cell_type": "code",
      "source": [
        "tf.random.set_seed(42)\n",
        "\n",
        "lr = 1e-3\n",
        "\n",
        "for optim in [tf.keras.optimizers.SGD(learning_rate=lr),\n",
        "              tf.keras.optimizers.RMSprop(learning_rate=lr),\n",
        "              tf.keras.optimizers.Adam(learning_rate=lr),\n",
        "              tf.keras.optimizers.Nadam(learning_rate=lr)]:\n",
        "\n",
        "  model = Sequential([Dense(256, activation='relu', input_shape=(13,)),\n",
        "                      Dense(128, activation='relu'),\n",
        "                      Dense(1, activation='relu')])\n",
        "    \n",
        "  model.compile(optimizer=optim,\n",
        "                  loss=tf.keras.losses.MeanSquaredError(),\n",
        "                  metrics=tfa.metrics.RSquare(dtype=tf.float32, y_shape=(1,)))\n",
        "\n",
        "  print(f'Оптимайзер {type(optim).__name__}:')\n",
        "\n",
        "  eval_model(X_train, y_train, epoch=100)\n"
      ],
      "metadata": {
        "colab": {
          "base_uri": "https://localhost:8080/"
        },
        "id": "6PGZB_k-oYI8",
        "outputId": "5b4f8b19-faf4-459e-aeeb-b613faf75811"
      },
      "execution_count": 129,
      "outputs": [
        {
          "output_type": "stream",
          "name": "stdout",
          "text": [
            "Оптимайзер SGD:\n",
            "\tR2 на трейне - 0.937166;\n",
            "\tR2 на валидационном сете - 0.778614;\n",
            "\tR2 на тесте - 0.855580.\n",
            "Оптимайзер RMSprop:\n",
            "\tR2 на трейне - 0.961458;\n",
            "\tR2 на валидационном сете - 0.778414;\n",
            "\tR2 на тесте - 0.848103.\n",
            "Оптимайзер Adam:\n",
            "\tR2 на трейне - 0.949573;\n",
            "\tR2 на валидационном сете - 0.791273;\n",
            "\tR2 на тесте - 0.856516.\n",
            "Оптимайзер Nadam:\n",
            "\tR2 на трейне - 0.956599;\n",
            "\tR2 на валидационном сете - 0.801159;\n",
            "\tR2 на тесте - 0.856918.\n"
          ]
        }
      ]
    },
    {
      "cell_type": "markdown",
      "source": [
        "Видим, что метрики сразу значительно улучшились, однако разрыв между $R^2$ на трейне и валидации/тесте настораживает, попробуем добавить слоев в модель и поменять скорость обучения."
      ],
      "metadata": {
        "id": "EPooHf67K1UM"
      }
    },
    {
      "cell_type": "code",
      "source": [
        "tf.random.set_seed(42)\n",
        "\n",
        "lr = 3e-4\n",
        "\n",
        "def eval_model(X_train, y_train, epoch, val_split=0.15):\n",
        "  # if tf.config.experimental.list_physical_devices(\"GPU\"):\n",
        "      # with tf.device(\"GPU:0\"): \n",
        "        h = model.fit(X_train, y_train, epochs=epoch, validation_split=0.15, \n",
        "                      batch_size=10, verbose=0)\n",
        "        test_loss, test_r2 = model.evaluate(X_test, y_test, verbose=0)\n",
        "        print(f'\\tR2 на трейне - {h.history.get(\"r_square\")[-1]:.6f};\\n'\n",
        "              f'\\tR2 на валидационном сете - {h.history.get(\"val_r_square\")[-1]:.6f};\\n'\n",
        "              f'\\tR2 на тесте - {test_r2:6f}.')\n",
        "        return h\n",
        "        \n",
        "# Добавим в модель дропаут слои, чтобы уменьшить переобучение\n",
        "\n",
        "model = Sequential([Dense(256, activation='relu', input_shape=(13,)),\n",
        "                    Dropout(0.2),\n",
        "                    Dense(192, activation='relu'),\n",
        "                    Dropout(0.2),\n",
        "                    Dense(128, activation='linear'),\n",
        "                    Dropout(0.2),\n",
        "                    Dense(64, activation='relu'),\n",
        "                    Dropout(0.1),\n",
        "                    Dense(32, activation='linear'),\n",
        "                    Dense(1, activation='relu')])\n",
        "\n",
        "    \n",
        "model.compile(optimizer=tf.keras.optimizers.SGD(learning_rate=lr),\n",
        "              loss=tf.keras.losses.MeanSquaredError(),\n",
        "              metrics=tfa.metrics.RSquare(dtype=tf.float32, y_shape=(1,)))\n",
        "\n",
        "h = eval_model(X_train, y_train, epoch=300)\n",
        "\n",
        "\n",
        "plt.figure(figsize=(12, 8))\n",
        "plt.plot(h.history['loss'], label='train')\n",
        "plt.plot(h.history['val_loss'], label='val')\n",
        "plt.xlim([10, 300])\n",
        "plt.ylim([0, 25])\n",
        "plt.title('Ошибка на тренировочном и валидационном датасетах')\n",
        "plt.legend()\n",
        "plt.show()"
      ],
      "metadata": {
        "colab": {
          "base_uri": "https://localhost:8080/",
          "height": 554
        },
        "id": "3z1lGU9FLIbo",
        "outputId": "c4310aed-e247-45e4-e970-eab63b522bba"
      },
      "execution_count": 154,
      "outputs": [
        {
          "output_type": "stream",
          "name": "stdout",
          "text": [
            "\tR2 на трейне - 0.948167;\n",
            "\tR2 на валидационном сете - 0.861339;\n",
            "\tR2 на тесте - 0.890553.\n"
          ]
        },
        {
          "output_type": "display_data",
          "data": {
            "image/png": "[encoded data removed]",
            "text/plain": [
              "<Figure size 864x576 with 1 Axes>"
            ]
          },
          "metadata": {
            "needs_background": "light"
          }
        }
      ]
    },
    {
      "cell_type": "markdown",
      "source": [
        "Разница между метрикой на трейне и тесте уменьшилась, но все равно осталась значительной, однако удалось сократить разницу между оценками для валидационного и тестового датасета и одновременно повысить метрику на тесте."
      ],
      "metadata": {
        "id": "Rn1Hx1Bb5_W4"
      }
    },
    {
      "cell_type": "markdown",
      "source": [
        "\n",
        "В результате донастройки модели удалось поднять метрику $R^2$ на тесте с __0.6259__ до __0.8905__. Среди прочего помогло увеличение слоев в сети, увеличение количества нейронов, количества эпох обучения и использование оптимайзера `SGD` с подобранным значением скорости обучения. Большой вклад в достижение этого результата внесло также изменение функции активации на некоторых слоях, прежде всего на входном и выходном, с линейной на _relu_."
      ],
      "metadata": {
        "id": "yvVUoli28MZc"
      }
    },
    {
      "cell_type": "code",
      "source": [
        ""
      ],
      "metadata": {
        "id": "Rpjt6tLHOMo4"
      },
      "execution_count": null,
      "outputs": []
    }
  ]
}