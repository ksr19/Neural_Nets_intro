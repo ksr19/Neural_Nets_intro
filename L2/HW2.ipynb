{
  "cells": [
    {
      "cell_type": "markdown",
      "metadata": {
        "id": "RMyI_NVj3y4w"
      },
      "source": [
        "## Урок 2. Домашнее задание"
      ]
    },
    {
      "cell_type": "markdown",
      "metadata": {
        "id": "uti9HCALAYnk"
      },
      "source": [
        "#### __Задание__"
      ]
    },
    {
      "cell_type": "markdown",
      "metadata": {
        "id": "H9i3M7fkAV4k"
      },
      "source": [
        "Используем набор примеров fashion-MNIST\n",
        "\n",
        "1.  Опишите - какой результат получен в нейросети в зависимости от:\n",
        "  -  числа нейронов в слое(для 2-хслойной сети), \n",
        "  - числа слоев (2, 3, 5, 10) при близких размерах сети (близкое число тренируемых парметров).\n",
        "  - фиксируйте для тренировочного и тестового набора метрики accuracy.\n",
        "2.  Проверьте работу разных оптимизаторов (SGD, Adam, RMSProp) для одной из моделей п.1.Фиксируйте для тренировочного и тестового набора метрики accuracy.\n",
        "\n",
        "3. Сделайте вывод - что помогло вам улучшить качество классификации в нейросети на тестовом наборе? \n",
        "\n",
        "4. Для одного варианта сетей сформируйте матрицу ошибок по классам. Оцените качество модели по каждому классу отдельно (полнота , точность). Сделайте вывод."
      ]
    },
    {
      "cell_type": "markdown",
      "metadata": {
        "id": "XcHVVku4AmBY"
      },
      "source": [
        "#### __Решение__"
      ]
    },
    {
      "cell_type": "markdown",
      "metadata": {
        "id": "UNvomkmr34SE"
      },
      "source": [
        "Импортируем необходимые для обучения библиотеки."
      ]
    },
    {
      "cell_type": "code",
      "execution_count": 84,
      "metadata": {
        "id": "yb679yh7S_YY"
      },
      "outputs": [],
      "source": [
        "import numpy as np\n",
        "import matplotlib.pyplot as plt\n",
        "\n",
        "\n",
        "from sklearn.metrics import confusion_matrix, recall_score, precision_score, f1_score\n",
        "from keras.models import Sequential\n",
        "from keras.layers import Dense\n",
        "from keras.losses import CategoricalCrossentropy\n",
        "from keras.datasets import fashion_mnist\n",
        "from tensorflow.keras.utils import to_categorical"
      ]
    },
    {
      "cell_type": "markdown",
      "metadata": {
        "id": "BAjY4Vwf3-iE"
      },
      "source": [
        "Сформируем обучающую и тестовую выборки на основе датасета `fashion_mnist`."
      ]
    },
    {
      "cell_type": "code",
      "execution_count": 85,
      "metadata": {
        "id": "2x6ddUQ0TC_o"
      },
      "outputs": [],
      "source": [
        "(train_imagesi,train_labels),(test_imagesi,test_labels)=fashion_mnist.load_data()\n",
        "\n",
        "# приведем изображение к диапазону (-1,1).\n",
        "train_images = (train_imagesi / 127) - 1\n",
        "test_images = (test_imagesi / 127) - 1\n",
        "\n",
        "# делаем векторизацию, т.к. наши слои полносвязные и хотят на вход вектор.\n",
        "train_images = train_images.reshape((-1, 784))\n",
        "test_images = test_images.reshape((-1, 784))"
      ]
    },
    {
      "cell_type": "code",
      "execution_count": 86,
      "metadata": {
        "colab": {
          "base_uri": "https://localhost:8080/",
          "height": 265
        },
        "id": "aVlcfpG1TFiI",
        "outputId": "d6c37745-6a1e-4989-80e9-86945734dcc0"
      },
      "outputs": [
        {
          "output_type": "display_data",
          "data": {
            "image/png": "[encoded data removed]",
            "text/plain": [
              "<Figure size 432x288 with 1 Axes>"
            ]
          },
          "metadata": {
            "needs_background": "light"
          }
        }
      ],
      "source": [
        "plt.imshow(train_imagesi[22,:,:])\n",
        "plt.show()"
      ]
    },
    {
      "cell_type": "markdown",
      "metadata": {
        "id": "TSUA--1R6rEQ"
      },
      "source": [
        "Размеры выборок:"
      ]
    },
    {
      "cell_type": "code",
      "execution_count": 87,
      "metadata": {
        "colab": {
          "base_uri": "https://localhost:8080/"
        },
        "id": "rqCeVE7yTJnE",
        "outputId": "fd5147c2-6e33-4c0b-9494-735b03a69f1f"
      },
      "outputs": [
        {
          "output_type": "stream",
          "name": "stdout",
          "text": [
            "(60000, 784)\n",
            "(10000, 784)\n"
          ]
        }
      ],
      "source": [
        "print(train_images.shape)\n",
        "print(test_images.shape)"
      ]
    },
    {
      "cell_type": "code",
      "execution_count": 88,
      "metadata": {
        "colab": {
          "base_uri": "https://localhost:8080/"
        },
        "id": "Y3yNTw2yVYdQ",
        "outputId": "ddb019ba-c786-42ca-8a0f-c90045e76e17"
      },
      "outputs": [
        {
          "output_type": "execute_result",
          "data": {
            "text/plain": [
              "array([0, 1, 2, 3, 4, 5, 6, 7, 8, 9], dtype=uint8)"
            ]
          },
          "metadata": {},
          "execution_count": 88
        }
      ],
      "source": [
        "np.unique(train_labels)"
      ]
    },
    {
      "cell_type": "markdown",
      "metadata": {
        "id": "QDsBhffr3nb8"
      },
      "source": [
        "В представленном датасете мы имеем дело с 10 уникальными классами одежды."
      ]
    },
    {
      "cell_type": "markdown",
      "metadata": {
        "id": "r9jg89I1CLGI"
      },
      "source": [
        "С помощью OHE преобразуем метки классов в обучающей и тестовой выборках."
      ]
    },
    {
      "cell_type": "code",
      "execution_count": 89,
      "metadata": {
        "id": "y9Gt2e67BY7M"
      },
      "outputs": [],
      "source": [
        "y_t = to_categorical(train_labels)\n",
        "y_tt = to_categorical(test_labels)"
      ]
    },
    {
      "cell_type": "markdown",
      "metadata": {
        "id": "P5CLxouTAx_A"
      },
      "source": [
        "Построим для начала двуслойные нейросети с разным количеством нейронов во внутреннем слое и проверим каким образом это влияет на метрику модели:"
      ]
    },
    {
      "cell_type": "code",
      "execution_count": 90,
      "metadata": {
        "colab": {
          "base_uri": "https://localhost:8080/"
        },
        "id": "LLKcjDCiNfZU",
        "outputId": "e3a80ccd-e8e6-4f9e-c053-6316123ffb30"
      },
      "outputs": [
        {
          "output_type": "stream",
          "name": "stdout",
          "text": [
            "Количество нейронов во внутреннем слое двухслойной сети 50: Accuracy на трейне - 0.918458; Accuracy на тесте - 0.875500\n",
            "Количество нейронов во внутреннем слое двухслойной сети 100: Accuracy на трейне - 0.920604; Accuracy на тесте - 0.871600\n",
            "Количество нейронов во внутреннем слое двухслойной сети 150: Accuracy на трейне - 0.927625; Accuracy на тесте - 0.875800\n",
            "Количество нейронов во внутреннем слое двухслойной сети 200: Accuracy на трейне - 0.928479; Accuracy на тесте - 0.879400\n"
          ]
        }
      ],
      "source": [
        "n = [50, 100, 150, 200]\n",
        "\n",
        "for inner in n:\n",
        "  model = Sequential(name='my_model')\n",
        "  model.add(Dense(128, activation='relu', input_shape=(784,)))  \n",
        "  model.add(Dense(inner, activation='tanh')) \n",
        "  model.add(Dense(10, activation='softmax'))\n",
        "\n",
        "  # Компилируем сеть с оптимизатором , функцией потерь и метрикой\n",
        "\n",
        "  model.compile(\n",
        "    optimizer='adam', # оптимизатор\n",
        "    loss=CategoricalCrossentropy(), # функция потерь\n",
        "    metrics=['accuracy'], # метрика\n",
        "  ) \n",
        "\n",
        "\n",
        "  # Обучаем сеть\n",
        "\n",
        "  hh = model.fit(  \n",
        "    train_images[:,:],\n",
        "    y_t[:,:],\n",
        "    epochs=15,\n",
        "    batch_size=32, \n",
        "    validation_split=0.2,\n",
        "    verbose=0\n",
        "  )\n",
        "\n",
        "  # Оцениваем качество\n",
        "\n",
        "  test_loss, test_acc = model.evaluate(test_images, y_tt, verbose=0)\n",
        "\n",
        "  print(f'Количество нейронов во внутреннем слое двухслойной сети {inner}: '\n",
        "        f'Accuracy на трейне - {hh.history.get(\"accuracy\")[-1]:.6f}; '\n",
        "        f'Accuracy на тесте - {test_acc:.6f}')"
      ]
    },
    {
      "cell_type": "markdown",
      "metadata": {
        "id": "S44AcO_k9wTc"
      },
      "source": [
        "Видим, что метрика `Accuracy` модели немного улучшилась при увеличении количества нейронов до 200 во внутреннем слое. При этом рост на тесте меньше роста на трейне, что может указывать на наличие переобучения."
      ]
    },
    {
      "cell_type": "code",
      "execution_count": 99,
      "metadata": {
        "id": "Pi9ym0-qJAWQ"
      },
      "outputs": [],
      "source": [
        "def train_evaluate_model(model, epochs=15, batch_size=32, optimizer='adam'):\n",
        "  # Компилируем сеть с оптимизатором , функцией потерь и метрикой\n",
        "\n",
        "  model.compile(\n",
        "    optimizer=optimizer, # оптимизатор\n",
        "    loss=CategoricalCrossentropy(), # функция потерь\n",
        "    metrics=['accuracy'], # метрика\n",
        "  ) \n",
        "\n",
        "\n",
        "  # Обучаем сеть\n",
        "\n",
        "  hh = model.fit(  \n",
        "    train_images[:,:],\n",
        "    y_t[:,:],\n",
        "    epochs=epochs,\n",
        "    batch_size=32, \n",
        "    validation_split=0.2,\n",
        "    verbose=0\n",
        "  )\n",
        "\n",
        "  # Оцениваем качество\n",
        "\n",
        "  test_loss, test_acc = model.evaluate(test_images, y_tt, verbose=0)\n",
        "\n",
        "  return hh.history.get(\"accuracy\")[-1], test_acc"
      ]
    },
    {
      "cell_type": "code",
      "execution_count": 92,
      "metadata": {
        "colab": {
          "base_uri": "https://localhost:8080/"
        },
        "id": "cPBJnUXXD2ao",
        "outputId": "113a6929-eded-4e93-81ea-737c64149746"
      },
      "outputs": [
        {
          "output_type": "stream",
          "name": "stdout",
          "text": [
            "Количество параметров в модели двухслойной сети - 126900.\n",
            "Accuracy на трейне - 0.929250; Accuracy на тесте - 0.882500.\n"
          ]
        }
      ],
      "source": [
        "model_2layer = Sequential(name='2_Layer_model')\n",
        "model_2layer.add(Dense(128, activation='relu', input_shape=(784,)))  \n",
        "model_2layer.add(Dense(190, activation='tanh')) \n",
        "model_2layer.add(Dense(10, activation='softmax'))\n",
        "print(f'Количество параметров в модели двухслойной сети - '\n",
        "      f'{model_2layer.count_params()}.')\n",
        "\n",
        "\n",
        "train_acc, test_acc = train_evaluate_model(model_2layer)\n",
        "\n",
        "print(f'Accuracy на трейне - {train_acc:.6f}; '\n",
        "      f'Accuracy на тесте - {test_acc:.6f}.')"
      ]
    },
    {
      "cell_type": "code",
      "execution_count": 93,
      "metadata": {
        "colab": {
          "base_uri": "https://localhost:8080/"
        },
        "id": "d8ACNENpAZM0",
        "outputId": "44eee248-4cba-4194-95a1-13144ed861bc"
      },
      "outputs": [
        {
          "output_type": "stream",
          "name": "stdout",
          "text": [
            "Количество параметров в модели трехслойной сети - 126780.\n",
            "Accuracy на трейне - 0.922833; Accuracy на тесте - 0.877200.\n"
          ]
        }
      ],
      "source": [
        "model_3layer = Sequential(name='3_Layer_model')\n",
        "model_3layer.add(Dense(128, activation='relu', input_shape=(784,)))  \n",
        "\n",
        "for k in range(2):\n",
        "  model_3layer.add(Dense(10+(10-k)*10, activation='tanh')) \n",
        "\n",
        "model_3layer.add(Dense(10, activation='softmax')) \n",
        "print(f'Количество параметров в модели трехслойной сети - '\n",
        "      f'{model_3layer.count_params()}.')\n",
        "\n",
        "train_acc, test_acc = train_evaluate_model(model_3layer)\n",
        "\n",
        "print(f'Accuracy на трейне - {train_acc:.6f}; '\n",
        "      f'Accuracy на тесте - {test_acc:.6f}.')\n"
      ]
    },
    {
      "cell_type": "code",
      "execution_count": 94,
      "metadata": {
        "colab": {
          "base_uri": "https://localhost:8080/"
        },
        "id": "8NHT85MsEFHQ",
        "outputId": "1c946559-4877-44fd-e1fe-a5e08f404ca1"
      },
      "outputs": [
        {
          "output_type": "stream",
          "name": "stdout",
          "text": [
            "Количество параметров в модели пятислойной сети - 124290.\n",
            "Accuracy на трейне - 0.910479; Accuracy на тесте - 0.874300.\n"
          ]
        }
      ],
      "source": [
        "model_5layer = Sequential(name='5_Layer_model')\n",
        "model_5layer.add(Dense(128, activation='relu', input_shape=(784,)))  \n",
        "\n",
        "for k in range(4):\n",
        "  model_5layer.add(Dense(10+(7-k)*10, activation='tanh')) \n",
        "\n",
        "model_5layer.add(Dense(10, activation='softmax')) \n",
        "print(f'Количество параметров в модели пятислойной сети - '\n",
        "      f'{model_5layer.count_params()}.')\n",
        "\n",
        "train_acc, test_acc = train_evaluate_model(model_5layer)\n",
        "\n",
        "print(f'Accuracy на трейне - {train_acc:.6f}; '\n",
        "      f'Accuracy на тесте - {test_acc:.6f}.')"
      ]
    },
    {
      "cell_type": "code",
      "execution_count": 95,
      "metadata": {
        "colab": {
          "base_uri": "https://localhost:8080/"
        },
        "id": "J8lU_hyWA7uM",
        "outputId": "94ed6c3c-dc86-4b69-bcca-f7642b45e091"
      },
      "outputs": [
        {
          "output_type": "stream",
          "name": "stdout",
          "text": [
            "Количество параметров в модели десятислойной сети - 127120.\n",
            "Accuracy на трейне - 0.890604; Accuracy на тесте - 0.851500.\n"
          ]
        }
      ],
      "source": [
        "model_10layer = Sequential(name='10_Layer_model')\n",
        "model_10layer.add(Dense(128, activation='relu', input_shape=(784,)))  \n",
        "\n",
        "for k in range(9):\n",
        "  model_10layer.add(Dense(10 + k*10, activation='tanh')) \n",
        "\n",
        "model_10layer.add(Dense(10, activation='softmax')) \n",
        "print(f'Количество параметров в модели десятислойной сети - '\n",
        "      f'{model_10layer.count_params()}.')\n",
        "\n",
        "train_acc, test_acc = train_evaluate_model(model_10layer)\n",
        "\n",
        "print(f'Accuracy на трейне - {train_acc:.6f}; '\n",
        "      f'Accuracy на тесте - {test_acc:.6f}.')"
      ]
    },
    {
      "cell_type": "markdown",
      "metadata": {
        "id": "8Ju36xXAQrx0"
      },
      "source": [
        "В данном случае оказалось, что лучшие результаты на тесте показала двухслойная модель. При дальнейшем увеличении слоев качество модели ухудшается, но можно отметить, что одновременно сокращается переобучение."
      ]
    },
    {
      "cell_type": "code",
      "execution_count": 97,
      "metadata": {
        "colab": {
          "base_uri": "https://localhost:8080/",
          "height": 531
        },
        "id": "nwJPSTr_Bxjw",
        "outputId": "6b23c4d8-5a41-4e1a-b116-49c5b5a4c7d3"
      },
      "outputs": [
        {
          "output_type": "stream",
          "name": "stdout",
          "text": [
            "Оптимизатор - SGD: Accuracy на трейне - 0.901583; Accuracy на тесте - 0.874900.\n",
            "Оптимизатор - RMSProp: Accuracy на трейне - 0.903396; Accuracy на тесте - 0.874000.\n",
            "Оптимизатор - adam: Accuracy на трейне - 0.918250; Accuracy на тесте - 0.879000.\n",
            "Оптимизатор - NAdam: Accuracy на трейне - 0.920708; Accuracy на тесте - 0.881600.\n"
          ]
        },
        {
          "output_type": "display_data",
          "data": {
            "image/png": "[encoded data removed]",
            "text/plain": [
              "<Figure size 1152x504 with 1 Axes>"
            ]
          },
          "metadata": {
            "needs_background": "light"
          }
        }
      ],
      "source": [
        "# создаем модель model\n",
        "model = Sequential(name='2_Layer_model')\n",
        "model.add(Dense(128, activation='relu', input_shape=(784,)))  \n",
        "model.add(Dense(50, activation='tanh')) \n",
        "model.add(Dense(10, activation='softmax'))\n",
        "\n",
        "# сохраняем ее веса (это начальная точка) model.save_weights('model.h5')\n",
        "model.save_weights('model.h5')\n",
        "\n",
        "plt.figure(figsize=(16,7))\n",
        "\n",
        "# число рабочих эпох\n",
        "epochs = 15\n",
        "\n",
        "# вектор для вывода результатов\n",
        "epoch = np.arange(epochs+1)\n",
        "\n",
        "# будем изменять оптимизаторы\n",
        "\n",
        "for i_optim in ['SGD','RMSProp','adam','NAdam']:\n",
        "  # создаем рабочую модель modeli куда будем загружать эти вес (она должна быть идентичной структуры)\n",
        "  modeli = Sequential(name='2_Layer_model')\n",
        "  modeli.add(Dense(128, activation='relu', input_shape=(784,)))  \n",
        "  modeli.add(Dense(50, activation='tanh')) \n",
        "  modeli.add(Dense(10, activation='softmax'))\n",
        "  \n",
        "  # загружаем веса modeli.load_weights('model.h5')\n",
        "  modeli.load_weights('model.h5')\n",
        "  \n",
        "  # компилируем modeli с одним из оптимизаторов\n",
        "  modeli.compile(\n",
        "      optimizer=i_optim,\n",
        "      loss='categorical_crossentropy',\n",
        "      metrics=['accuracy'],\n",
        "      )\n",
        "  \n",
        "  # вычисляем ошибку для modeli без обучения\n",
        "  hh0_tr = modeli.evaluate(train_images[:48000,:], to_categorical(train_labels[:48000]),verbose = 0)\n",
        "  hh0_val = modeli.evaluate(train_images[48000:,:], to_categorical(train_labels[48000:]),verbose = 0)\n",
        "  \n",
        "  # проводим обучение модели \n",
        "  hh = modeli.fit(\n",
        "                  train_images,\n",
        "                  to_categorical(train_labels),\n",
        "                  epochs=epochs,\n",
        "                  batch_size=32, \n",
        "                  validation_split=0.2, \n",
        "                  verbose = 0\n",
        "                  )\n",
        "  \n",
        "  test_loss, test_acc = modeli.evaluate(test_images, y_tt, verbose=0)\n",
        "  print(f'Оптимизатор - {i_optim}: '\n",
        "        f'Accuracy на трейне - {hh.history.get(\"accuracy\")[-1]:.6f}; '\n",
        "        f'Accuracy на тесте - {test_acc:.6f}.')\n",
        "\n",
        "  # картинки\n",
        "  plt.plot(epoch,np.log([hh0_tr[0]]+hh.history['loss']),'-',label = modeli.optimizer.get_config()['name']+' train')\n",
        "  plt.plot(epoch,np.log([hh0_val[0]]+hh.history['val_loss']),'--',label = modeli.optimizer.get_config()['name']+' val')\n",
        "\n",
        "\n",
        "\n",
        "plt.legend()\n",
        "plt.grid('On')\n",
        "\n",
        "plt.title('нейросети от оптимизатора log(loss)')\n",
        "plt.xlabel('epoch')\n",
        "plt.ylabel('log(loss)')\n",
        "plt.show()"
      ]
    },
    {
      "cell_type": "markdown",
      "metadata": {
        "id": "Z4391ohU-Avk"
      },
      "source": [
        "Полученные результаты позволяют сделать вывод о том, что наилучшая метрика на тесте достигается при использовании оптимизатора NAdam. Однако разница с другими доступными оптимизаторами не очень велика. Хуже всего показал `RMSProp`, использующийся по умолчанию."
      ]
    },
    {
      "cell_type": "markdown",
      "metadata": {
        "id": "-dqTfK-i-xYE"
      },
      "source": [
        "График ошибок позволяет утверждать, что на валидационном датасете ошибка модели мало различается при использовании разных оптимизаторов."
      ]
    },
    {
      "cell_type": "markdown",
      "metadata": {
        "id": "qjxlVh5hBCqg"
      },
      "source": [
        "Попробуем еще обучить модель для разного количества эпох:"
      ]
    },
    {
      "cell_type": "code",
      "execution_count": 100,
      "metadata": {
        "colab": {
          "base_uri": "https://localhost:8080/"
        },
        "id": "QG-NIz24CW9g",
        "outputId": "abf70e7e-499b-43fb-8a68-566c2a699432"
      },
      "outputs": [
        {
          "output_type": "stream",
          "name": "stdout",
          "text": [
            "Количество эпох - 10: Accuracy на трейне - 0.907354; Accuracy на тесте - 0.869200.\n",
            "Количество эпох - 15: Accuracy на трейне - 0.938417; Accuracy на тесте - 0.879100.\n",
            "Количество эпох - 20: Accuracy на трейне - 0.956521; Accuracy на тесте - 0.877100.\n"
          ]
        }
      ],
      "source": [
        "model_2layer = Sequential(name='2_Layer_model')\n",
        "model_2layer.add(Dense(128, activation='relu', input_shape=(784,)))  \n",
        "model_2layer.add(Dense(50, activation='tanh')) \n",
        "model_2layer.add(Dense(10, activation='softmax'))\n",
        "\n",
        "\n",
        "epochs = [10, 15, 20]\n",
        "for epoch in epochs:\n",
        "  train_acc, test_acc = train_evaluate_model(model_2layer, epochs=epoch, optimizer='NAdam')\n",
        "\n",
        "  print(f'Количество эпох - {epoch}: Accuracy на трейне - {train_acc:.6f}; '\n",
        "        f'Accuracy на тесте - {test_acc:.6f}.')"
      ]
    },
    {
      "cell_type": "markdown",
      "source": [
        "Видно, что при увеличении количества эпох возрастает переобучение модели, при этом метрика на тесте практически не увеличивается."
      ],
      "metadata": {
        "id": "7T0OlKUXCtn0"
      }
    },
    {
      "cell_type": "markdown",
      "source": [
        "В целом видно, что различия между моделями довольно незначительны и зачастую в большой степени связаны со случайным элементом. Построим матрицу ошибок для итоговой модели - двухслойная сеть, в которой 150 нейронов во внутреннем слое, 15 эпох обучения:"
      ],
      "metadata": {
        "id": "3cSflWjoNqeg"
      }
    },
    {
      "cell_type": "code",
      "source": [
        "model = Sequential(name='2_Layer_model')\n",
        "model.add(Dense(128, activation='relu', input_shape=(784,)))  \n",
        "model.add(Dense(50, activation='tanh')) \n",
        "model.add(Dense(10, activation='softmax'))\n",
        "\n",
        "train_evaluate_model(model, optimizer='NAdam')\n",
        "\n",
        "y_pred = model.predict(test_images[:,:])\n",
        "y_pred_class = np.argmax(y_pred,axis=1)\n",
        "\n",
        "confusion_matrix(test_labels, y_pred_class)"
      ],
      "metadata": {
        "colab": {
          "base_uri": "https://localhost:8080/"
        },
        "id": "mXqi4F8mIFiw",
        "outputId": "905c18e7-5d65-4f26-d067-09b3cb472d16"
      },
      "execution_count": 105,
      "outputs": [
        {
          "output_type": "execute_result",
          "data": {
            "text/plain": [
              "array([[809,   0,  28,  26,   4,   3, 119,   1,  10,   0],\n",
              "       [  1, 964,   0,  27,   3,   0,   3,   0,   2,   0],\n",
              "       [ 11,   3, 772,  12, 117,   1,  78,   1,   5,   0],\n",
              "       [ 18,   5,  17, 890,  45,   0,  21,   0,   4,   0],\n",
              "       [  1,   2,  72,  30, 836,   0,  57,   0,   2,   0],\n",
              "       [  0,   0,   0,   0,   0, 930,   0,  55,   1,  14],\n",
              "       [104,   1,  80,  32,  72,   1, 694,   2,  14,   0],\n",
              "       [  0,   0,   0,   0,   0,  14,   0, 949,   0,  37],\n",
              "       [  5,   0,   2,   4,   6,   6,   7,  10, 960,   0],\n",
              "       [  1,   0,   0,   0,   0,  15,   0,  39,   0, 945]])"
            ]
          },
          "metadata": {},
          "execution_count": 105
        }
      ]
    },
    {
      "cell_type": "markdown",
      "source": [
        "Посчитаем полноту и точность для каждого из классов:"
      ],
      "metadata": {
        "id": "w5waTJfwXDKQ"
      }
    },
    {
      "cell_type": "code",
      "source": [
        "recall_score(test_labels, y_pred_class, labels=np.unique(test_labels), average=None)"
      ],
      "metadata": {
        "colab": {
          "base_uri": "https://localhost:8080/"
        },
        "id": "LvMNRhJGVQ7U",
        "outputId": "a322e864-aca7-4c39-b75a-d276d3828eaf"
      },
      "execution_count": 106,
      "outputs": [
        {
          "output_type": "execute_result",
          "data": {
            "text/plain": [
              "array([0.809, 0.964, 0.772, 0.89 , 0.836, 0.93 , 0.694, 0.949, 0.96 ,\n",
              "       0.945])"
            ]
          },
          "metadata": {},
          "execution_count": 106
        }
      ]
    },
    {
      "cell_type": "code",
      "source": [
        "precision_score(test_labels, y_pred_class, labels=np.unique(test_labels), average=None)"
      ],
      "metadata": {
        "colab": {
          "base_uri": "https://localhost:8080/"
        },
        "id": "N0CRj-dJL7qU",
        "outputId": "9c6df87d-c880-4e9b-8438-3fe6ab073507"
      },
      "execution_count": 107,
      "outputs": [
        {
          "output_type": "execute_result",
          "data": {
            "text/plain": [
              "array([0.85157895, 0.98871795, 0.79505664, 0.87169442, 0.77192982,\n",
              "       0.95876289, 0.70888662, 0.89782403, 0.96192385, 0.94879518])"
            ]
          },
          "metadata": {},
          "execution_count": 107
        }
      ]
    },
    {
      "cell_type": "code",
      "source": [
        "f1_score(test_labels, y_pred_class, labels=np.unique(test_labels), average=None)"
      ],
      "metadata": {
        "colab": {
          "base_uri": "https://localhost:8080/"
        },
        "id": "goDvNzsfVaWc",
        "outputId": "34ee2ddd-8b92-4850-e4ee-3a78bef58f9d"
      },
      "execution_count": 108,
      "outputs": [
        {
          "output_type": "execute_result",
          "data": {
            "text/plain": [
              "array([0.82974359, 0.97620253, 0.7833587 , 0.8807521 , 0.80268843,\n",
              "       0.94416244, 0.70136433, 0.92270297, 0.96096096, 0.94689379])"
            ]
          },
          "metadata": {},
          "execution_count": 108
        }
      ]
    },
    {
      "cell_type": "markdown",
      "source": [
        "В целом метрики полноты и точности получились довольно высокие, только для одного из классов заметна сильная просадка по качеству, так как `f1_score` равен всего 0.71."
      ],
      "metadata": {
        "id": "OcjsOPSPbpLc"
      }
    },
    {
      "cell_type": "code",
      "source": [
        ""
      ],
      "metadata": {
        "id": "Y2r-HWOQb27I"
      },
      "execution_count": null,
      "outputs": []
    }
  ],
  "metadata": {
    "colab": {
      "collapsed_sections": [],
      "name": "HW2.ipynb",
      "provenance": []
    },
    "kernelspec": {
      "display_name": "Python 3",
      "name": "python3"
    },
    "language_info": {
      "name": "python"
    }
  },
  "nbformat": 4,
  "nbformat_minor": 0
}